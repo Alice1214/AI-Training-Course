{
 "cells": [
  {
   "cell_type": "code",
   "execution_count": 1,
   "metadata": {},
   "outputs": [],
   "source": [
    "# -*- coding: utf-8 -*-\n",
    "#  Content：Porto Seguro是巴西最大的汽车与住房保险公司之一，根据汽车保单持有人的数据建立机器学习模型，分析该持有人是否会\n",
    "#           在次年提出索赔。数据已进行脱敏使用GBDT+LR模型进行预测，并计算Normalized Cross Entropy.\n",
    "#  Author:  HuiHui\n",
    "#  Date:    2020-03-25\n",
    "#  Reference:\n",
    "#  DataSet: porto seguro safe driver prediction（kaggle 2017年比赛）\n",
    "\n",
    "import numpy as np\n",
    "import pandas as pd\n",
    "np.random.seed(10)\n",
    "import matplotlib.pyplot as plt\n",
    "from sklearn.datasets import make_classification\n",
    "from sklearn.linear_model import LogisticRegression\n",
    "from sklearn.ensemble import RandomTreesEmbedding, RandomForestClassifier, GradientBoostingClassifier, GradientBoostingRegressor\n",
    "from sklearn.preprocessing import OneHotEncoder\n",
    "from sklearn.model_selection import train_test_split\n",
    "from sklearn.metrics import roc_curve,log_loss\n",
    "from sklearn.pipeline import make_pipeline\n",
    "\n",
    "#数据加载\n",
    "train_data = pd.read_csv('./train.csv')\n",
    "test_data = pd.read_csv('./test.csv')\n",
    "# #数据探索\n",
    "# print('查看数据信息：列名、非空个数、类型等')\n",
    "# train_data.info()\n",
    "# print('～'*30)\n",
    "# print('查看前5条数据')\n",
    "# train_data.head()"
   ]
  },
  {
   "cell_type": "code",
   "execution_count": 2,
   "metadata": {
    "scrolled": false
   },
   "outputs": [],
   "source": [
    "# 将样本集分成测试集和训练集，训练集还应分成gbdt训练集和gbdt测试集（其得到的Xgbdt向量作为lr的训练集）\n",
    "X = train_data.drop('target',axis=1)\n",
    "y = train_data['target']\n",
    "X_train, X_test, y_train, y_test = train_test_split(X, y, test_size=0.5)\n",
    "X_train, X_train_lr, y_train, y_train_lr = train_test_split(X_train, y_train, test_size=0.5)\n",
    "X_test_data = test_data #最终测试集"
   ]
  },
  {
   "cell_type": "code",
   "execution_count": 3,
   "metadata": {},
   "outputs": [
    {
     "data": {
      "text/plain": [
       "OneHotEncoder(categories='auto', drop=None, dtype=<class 'numpy.float64'>,\n",
       "              handle_unknown='error', sparse=True)"
      ]
     },
     "execution_count": 3,
     "metadata": {},
     "output_type": "execute_result"
    }
   ],
   "source": [
    "# 基于GBDT监督变换\n",
    "n_estimator = 10 #使用到的决策树的数量\n",
    "grd = GradientBoostingClassifier(n_estimators=n_estimator)\n",
    "grd.fit(X_train, y_train)\n",
    "# 得到OneHot编码\n",
    "grd_enc = OneHotEncoder(categories='auto')\n",
    "grd_enc.fit(grd.apply(X_train)[:, :, 0])\n",
    "#print(grd_enc.transform(grd.apply(X_train)[:, :, 0]).toarray()) #打印OneHot编码"
   ]
  },
  {
   "cell_type": "code",
   "execution_count": 4,
   "metadata": {},
   "outputs": [
    {
     "name": "stdout",
     "output_type": "stream",
     "text": [
      "logloss: 0.15479607581081992\n"
     ]
    }
   ],
   "source": [
    "# 使用OneHot编码作为特征，训练LR\n",
    "grd_lm = LogisticRegression(solver='lbfgs', max_iter=1000)\n",
    "grd_lm.fit(grd_enc.transform(grd.apply(X_train_lr)[:, :, 0]), y_train_lr)#apply(X_train_lr)返回训练数据X_train_lr在训练好的模型里每棵树中所处的叶子节点的位置（索引）\n",
    "# 使用LR进行预测\n",
    "y_pred_grd_lm = grd_lm.predict_proba(grd_enc.transform(grd.apply(X_test)[:, :, 0]))[:, 1] #predict_proba预测概率\n",
    "# 计算logloss；Normalized Cross Entropy怎么计算❓\n",
    "logloss=log_loss(y_test, y_pred_grd_lm)\n",
    "print(\"logloss: \" + str(logloss))\n",
    "\n",
    "#保存最终测试集预测结果至submission.csv\n",
    "y_pred= grd_lm.predict_proba(grd_enc.transform(grd.apply(X_test_data)[:, :, 0]))[:, 1]\n",
    "result=pd.DataFrame(columns=(\"id\",\"target\"))\n",
    "result[\"id\"]=X_test_data[\"id\"]\n",
    "result[\"target\"]=np.around(y_pred, decimals=4) # 保留4位小数\n",
    "result.to_csv(\"./submission.csv\",index=False) # index=False避免产生Unnamed:0列\n"
   ]
  }
 ],
 "metadata": {
  "kernelspec": {
   "display_name": "Python 3",
   "language": "python",
   "name": "python3"
  },
  "language_info": {
   "codemirror_mode": {
    "name": "ipython",
    "version": 3
   },
   "file_extension": ".py",
   "mimetype": "text/x-python",
   "name": "python",
   "nbconvert_exporter": "python",
   "pygments_lexer": "ipython3",
   "version": "3.6.3"
  }
 },
 "nbformat": 4,
 "nbformat_minor": 2
}
