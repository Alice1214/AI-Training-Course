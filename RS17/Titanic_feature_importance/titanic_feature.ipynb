{
 "cells": [
  {
   "cell_type": "markdown",
   "metadata": {},
   "source": [
    "# Titanic可解释性分析"
   ]
  },
  {
   "cell_type": "markdown",
   "metadata": {},
   "source": [
    "* Content：计算特征重要性;并进行可视化呈现;对影响Predict指标的重要特征进行可解释性说明\n",
    "* Author:  HuiHui\n",
    "* Date:    2020-05-26\n",
    "* Reference:"
   ]
  },
  {
   "cell_type": "markdown",
   "metadata": {},
   "source": [
    "## 导入相关库"
   ]
  },
  {
   "cell_type": "code",
   "execution_count": 3,
   "metadata": {},
   "outputs": [],
   "source": [
    "# !/usr/bin/env python\n",
    "# -*- coding=utf-8 -*-\n",
    "import pandas as pd\n",
    "import numpy as np\n",
    "import matplotlib.pyplot as plt\n",
    "#\"inline\"可直接在python console里面生成图像\n",
    "%matplotlib inline\n",
    "from sklearn.feature_extraction import DictVectorizer\n",
    "from sklearn import preprocessing\n",
    "from sklearn.linear_model.logistic import LogisticRegression"
   ]
  },
  {
   "cell_type": "markdown",
   "metadata": {},
   "source": [
    "## 数据处理"
   ]
  },
  {
   "cell_type": "code",
   "execution_count": 5,
   "metadata": {},
   "outputs": [
    {
     "name": "stdout",
     "output_type": "stream",
     "text": [
      "S    644\n",
      "C    168\n",
      "Q     77\n",
      "Name: Embarked, dtype: int64\n",
      "特征值\n",
      "     Pclass     Sex        Age  SibSp  Parch      Fare Embarked\n",
      "0         3    male  22.000000      1      0    7.2500        S\n",
      "1         1  female  38.000000      1      0   71.2833        C\n",
      "2         3  female  26.000000      0      0    7.9250        S\n",
      "3         1  female  35.000000      1      0   53.1000        S\n",
      "4         3    male  35.000000      0      0    8.0500        S\n",
      "5         3    male  29.699118      0      0    8.4583        Q\n",
      "6         1    male  54.000000      0      0   51.8625        S\n",
      "7         3    male   2.000000      3      1   21.0750        S\n",
      "8         3  female  27.000000      0      2   11.1333        S\n",
      "9         2  female  14.000000      1      0   30.0708        C\n",
      "10        3  female   4.000000      1      1   16.7000        S\n",
      "11        1  female  58.000000      0      0   26.5500        S\n",
      "12        3    male  20.000000      0      0    8.0500        S\n",
      "13        3    male  39.000000      1      5   31.2750        S\n",
      "14        3  female  14.000000      0      0    7.8542        S\n",
      "15        2  female  55.000000      0      0   16.0000        S\n",
      "16        3    male   2.000000      4      1   29.1250        Q\n",
      "17        2    male  29.699118      0      0   13.0000        S\n",
      "18        3  female  31.000000      1      0   18.0000        S\n",
      "19        3  female  29.699118      0      0    7.2250        C\n",
      "20        2    male  35.000000      0      0   26.0000        S\n",
      "21        2    male  34.000000      0      0   13.0000        S\n",
      "22        3  female  15.000000      0      0    8.0292        Q\n",
      "23        1    male  28.000000      0      0   35.5000        S\n",
      "24        3  female   8.000000      3      1   21.0750        S\n",
      "25        3  female  38.000000      1      5   31.3875        S\n",
      "26        3    male  29.699118      0      0    7.2250        C\n",
      "27        1    male  19.000000      3      2  263.0000        S\n",
      "28        3  female  29.699118      0      0    7.8792        Q\n",
      "29        3    male  29.699118      0      0    7.8958        S\n",
      "..      ...     ...        ...    ...    ...       ...      ...\n",
      "861       2    male  21.000000      1      0   11.5000        S\n",
      "862       1  female  48.000000      0      0   25.9292        S\n",
      "863       3  female  29.699118      8      2   69.5500        S\n",
      "864       2    male  24.000000      0      0   13.0000        S\n",
      "865       2  female  42.000000      0      0   13.0000        S\n",
      "866       2  female  27.000000      1      0   13.8583        C\n",
      "867       1    male  31.000000      0      0   50.4958        S\n",
      "868       3    male  29.699118      0      0    9.5000        S\n",
      "869       3    male   4.000000      1      1   11.1333        S\n",
      "870       3    male  26.000000      0      0    7.8958        S\n",
      "871       1  female  47.000000      1      1   52.5542        S\n",
      "872       1    male  33.000000      0      0    5.0000        S\n",
      "873       3    male  47.000000      0      0    9.0000        S\n",
      "874       2  female  28.000000      1      0   24.0000        C\n",
      "875       3  female  15.000000      0      0    7.2250        C\n",
      "876       3    male  20.000000      0      0    9.8458        S\n",
      "877       3    male  19.000000      0      0    7.8958        S\n",
      "878       3    male  29.699118      0      0    7.8958        S\n",
      "879       1  female  56.000000      0      1   83.1583        C\n",
      "880       2  female  25.000000      0      1   26.0000        S\n",
      "881       3    male  33.000000      0      0    7.8958        S\n",
      "882       3  female  22.000000      0      0   10.5167        S\n",
      "883       2    male  28.000000      0      0   10.5000        S\n",
      "884       3    male  25.000000      0      0    7.0500        S\n",
      "885       3  female  39.000000      0      5   29.1250        Q\n",
      "886       2    male  27.000000      0      0   13.0000        S\n",
      "887       1  female  19.000000      0      0   30.0000        S\n",
      "888       3  female  29.699118      1      2   23.4500        S\n",
      "889       1    male  26.000000      0      0   30.0000        C\n",
      "890       3    male  32.000000      0      0    7.7500        Q\n",
      "\n",
      "[891 rows x 7 columns]\n",
      "['Age', 'Embarked=C', 'Embarked=Q', 'Embarked=S', 'Fare', 'Parch', 'Pclass', 'Sex=female', 'Sex=male', 'SibSp']\n"
     ]
    }
   ],
   "source": [
    "#数据加载\n",
    "train_data = pd.read_csv('./train.csv')\n",
    "test_data = pd.read_csv('./test.csv')\n",
    "\n",
    "# 使用平均年龄来填充年龄中的nan值\n",
    "train_data['Age'].fillna(train_data['Age'].mean(), inplace=True)\n",
    "test_data['Age'].fillna(test_data['Age'].mean(),inplace=True)\n",
    "# 使用票价的均值填充票价中的nan值\n",
    "train_data['Fare'].fillna(train_data['Fare'].mean(), inplace=True)\n",
    "test_data['Fare'].fillna(test_data['Fare'].mean(),inplace=True)\n",
    "\n",
    "print(train_data['Embarked'].value_counts()) #S最多\n",
    "# 使用登录最多的港口来填充登录港口的nan值\n",
    "train_data['Embarked'].fillna('S', inplace=True)\n",
    "test_data['Embarked'].fillna('S',inplace=True)\n",
    "# 特征选择\n",
    "features = ['Pclass', 'Sex', 'Age', 'SibSp', 'Parch', 'Fare', 'Embarked']\n",
    "train_features = train_data[features]\n",
    "train_labels = train_data['Survived']\n",
    "test_features = test_data[features]\n",
    "print('特征值')\n",
    "print(train_features)\n",
    "# DictVectorizer对非数字化(Embarked、Sex)的特征采用0/1的方式进行量化，而数值型的特征一般情况维持原值即可\n",
    "dvec=DictVectorizer(sparse=False) # sparse=False表示不产生稀疏矩阵\n",
    "train_features=dvec.fit_transform(train_features.to_dict(orient='record'))\n",
    "test_features=dvec.transform(test_features.to_dict(orient='record'))\n",
    "print(dvec.feature_names_)\n",
    "# 采用Z-Score规范化\n",
    "ss = preprocessing.StandardScaler()\n",
    "train_ss_features = ss.fit_transform(train_features)\n",
    "test_ss_features = ss.transform(test_features)"
   ]
  },
  {
   "cell_type": "markdown",
   "metadata": {},
   "source": [
    "## 训练LR模型，计算特征重要性，并可视化呈现"
   ]
  },
  {
   "cell_type": "code",
   "execution_count": 10,
   "metadata": {},
   "outputs": [
    {
     "name": "stdout",
     "output_type": "stream",
     "text": [
      "[LibLinear][ -77.96916357   12.03785063    6.86070071  -14.86309631   15.84112545\n",
      "  -11.79497177 -139.80419643  100.         -100.          -54.58894825]\n"
     ]
    },
    {
     "data": {
      "image/png": "[encoded data removed]",
      "text/plain": [
       "<Figure size 432x288 with 1 Axes>"
      ]
     },
     "metadata": {},
     "output_type": "display_data"
    }
   ],
   "source": [
    "def show_feature_importance(feature_list, feature_importance):\n",
    "\t# 设定阈值\n",
    "\tfi_threshold = 10\n",
    "\t# 重要特征的下标\n",
    "\timportant_idx = np.where(feature_importance > fi_threshold)[0]\n",
    "\t# 特征名称\n",
    "\timportant_features = [feature_list[i] for i in important_idx]\n",
    "\t# 重要特征\n",
    "\tsorted_idx = np.argsort(feature_importance[important_idx])[::-1]\n",
    "\t# 可视化\n",
    "\tpos = np.arange(sorted_idx.shape[0]) + 0.5\n",
    "\tplt.subplot(1, 2, 2)\n",
    "\tplt.title('Feature Importance')\n",
    "\tplt.barh(pos, feature_importance[important_idx][sorted_idx[::-1]], color='r',align='center')\n",
    "\tplt.yticks(pos, [important_features[i] for i in sorted_idx[::-1]])\n",
    "\tplt.xlabel('Relative Importance')\n",
    "\tplt.draw()\n",
    "\tplt.show()\n",
    "\n",
    "# 构造LR分类器\n",
    "#clf = RandomForestClassifier(oob_score=True, n_estimators=100)\n",
    "clf = LogisticRegression(max_iter=100, verbose=True, random_state=33, tol=1e-4)\n",
    "\n",
    "# 模型训练\n",
    "clf.fit(train_ss_features, train_labels)\n",
    "# 获取特征重要性（更容易幸存的特征）\n",
    "#feature_importance = clf.feature_importances_[0]\n",
    "feature_importance = clf.coef_[0]\n",
    "feature_importance = 100.0 * (feature_importance / feature_importance.max())\n",
    "print(feature_importance)\n",
    "# 重要特征可视化\n",
    "show_feature_importance(dvec.feature_names_, feature_importance)"
   ]
  },
  {
   "cell_type": "markdown",
   "metadata": {},
   "source": [
    "## 重要特征分析"
   ]
  },
  {
   "cell_type": "markdown",
   "metadata": {},
   "source": [
    "* 根据上图可以看出，性别为女士是存活的重要特征，其次是票价，登船口为C也更容易存活"
   ]
  }
 ],
 "metadata": {
  "kernelspec": {
   "display_name": "Python 3",
   "language": "python",
   "name": "python3"
  },
  "language_info": {
   "codemirror_mode": {
    "name": "ipython",
    "version": 3
   },
   "file_extension": ".py",
   "mimetype": "text/x-python",
   "name": "python",
   "nbconvert_exporter": "python",
   "pygments_lexer": "ipython3",
   "version": "3.6.5"
  },
  "toc": {
   "base_numbering": 1,
   "nav_menu": {},
   "number_sections": true,
   "sideBar": true,
   "skip_h1_title": false,
   "title_cell": "Table of Contents",
   "title_sidebar": "Contents",
   "toc_cell": false,
   "toc_position": {
    "height": "calc(100% - 180px)",
    "left": "10px",
    "top": "150px",
    "width": "165px"
   },
   "toc_section_display": true,
   "toc_window_display": true
  }
 },
 "nbformat": 4,
 "nbformat_minor": 2
}
