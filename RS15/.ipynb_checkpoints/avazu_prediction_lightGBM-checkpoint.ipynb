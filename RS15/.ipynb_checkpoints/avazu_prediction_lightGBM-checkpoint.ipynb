{
 "cells": [
  {
   "cell_type": "markdown",
   "metadata": {},
   "source": [
    "# Avazu CTR广告点击率预测（lightGBM）"
   ]
  },
  {
   "cell_type": "markdown",
   "metadata": {},
   "source": [
    "* Content：对Netflix数据集进行评分预测\n",
    "* Author:  HuiHui\n",
    "* Date:    2020-06-01\n",
    "* Reference:https://www.kaggle.com/c/avazu-ctr-prediction"
   ]
  },
  {
   "cell_type": "markdown",
   "metadata": {},
   "source": [
    "## 提交说明"
   ]
  },
  {
   "cell_type": "markdown",
   "metadata": {},
   "source": [
    "* 说明采用的模型，LogLoss值\n",
    "* 提交结果，评分截图"
   ]
  },
  {
   "cell_type": "markdown",
   "metadata": {},
   "source": [
    "## Avazu数据集"
   ]
  },
  {
   "cell_type": "markdown",
   "metadata": {},
   "source": [
    "* **训练集：**10天的点击数据，按时间顺序排列。根据不同的策略对非点击和点击进行二次采样。\n",
    "* **测试集：** 1天的广告用于测试模型   \n",
    "* **提交文件：**\n",
    "* **字段：**  \n",
    "&emsp;**click:** 0-不点击，1-点击   \n",
    "&emsp;**C1，C14-C21：**匿名分类变量  \n",
    "&emsp;**hour:** 格式为YYMMDDHH"
   ]
  },
  {
   "cell_type": "markdown",
   "metadata": {},
   "source": [
    "## 导入相关库"
   ]
  },
  {
   "cell_type": "code",
   "execution_count": 1,
   "metadata": {},
   "outputs": [],
   "source": [
    "# !/usr/bin/env python\n",
    "# -*- coding=utf-8 -*-\n",
    "import pandas as pd\n",
    "import numpy as np\n",
    "import matplotlib.pyplot as plt\n",
    "%matplotlib inline\n",
    "import sklearn\n",
    "from sklearn.preprocessing import LabelEncoder\n",
    "from dummyPy import OneHotEncoder\n",
    "import random\n",
    "import pickle  # 存储临时变量\n",
    "from tqdm import tqdm\n",
    "import gc\n",
    "\n",
    "from sklearn.linear_model import SGDClassifier  # 梯度下降分类\n",
    "from sklearn.metrics import log_loss\n",
    "import lightgbm as lgb\n",
    "from sklearn.model_selection import train_test_split"
   ]
  },
  {
   "cell_type": "markdown",
   "metadata": {},
   "source": [
    "## 数据预处理"
   ]
  },
  {
   "cell_type": "markdown",
   "metadata": {},
   "source": [
    "* 特征选择  \n",
    "* 绘制分类数据分布图\n",
    "* 将所有不常用的分类转换成'other'\n",
    "* LabelEncoder、OneHotEncoder\n",
    "* 下采样训练样本"
   ]
  },
  {
   "cell_type": "code",
   "execution_count": 2,
   "metadata": {
    "code_folding": []
   },
   "outputs": [
    {
     "name": "stdout",
     "output_type": "stream",
     "text": [
      "loading data...\n"
     ]
    },
    {
     "data": {
      "image/png": "[encoded data removed]",
      "text/plain": [
       "<Figure size 432x288 with 12 Axes>"
      ]
     },
     "metadata": {},
     "output_type": "display_data"
    }
   ],
   "source": [
    "## 读文件\n",
    "# file_path = '/Users/wangdonghui/Desktop/ZGZ/RS/dataset/avazu-ctr-prediction/' # mac路径\n",
    "file_path = 'C:/Users/Administrator/Desktop/W/DataSet/avazu/' # win路径\n",
    "fp_train = file_path + 'train.csv'\n",
    "fp_test  = file_path + 'test.csv'\n",
    "\n",
    "## 下采样写文件\n",
    "fp_sub_train_f = file_path + 'sub_train_f.csv'\n",
    "fp_col_counts = file_path + 'col_counts'\n",
    "\n",
    "## data after selecting features (LR_fun needed)\n",
    "## and setting rare categories' value to 'other' (feature filtering)\n",
    "fp_train_f = file_path + 'train_f.csv'\n",
    "fp_test_f  = file_path + 'test_f.csv'\n",
    "\n",
    "## 存储标签编码和one-hot编码\n",
    "fp_lb_enc = file_path + 'lb_enc'\n",
    "fp_oh_enc = file_path + 'oh_enc'\n",
    "\n",
    "##==================== 数据预处理 ====================##\n",
    "# 特征选择\n",
    "cols = ['C1', \n",
    "        'banner_pos', \n",
    "        'site_domain', \n",
    "        'site_id',\n",
    "        'site_category',\n",
    "        'app_id',\n",
    "        'app_category', \n",
    "        'device_type', \n",
    "        'device_conn_type',\n",
    "        'C14', \n",
    "        'C15',\n",
    "        'C16']\n",
    "\n",
    "cols_train = ['id', 'click']\n",
    "cols_test  = ['id']\n",
    "cols_train.extend(cols)\n",
    "cols_test.extend(cols)\n",
    "\n",
    "## 数据加载\n",
    "print('loading data...')\n",
    "df_train_ini = pd.read_csv(fp_train, nrows = 10)# nrows = 10读取一个大文件中的几行数据\n",
    "df_train_org = pd.read_csv(fp_train, chunksize = 10000000, iterator = True)# 分块读取,iterator = True返回一个可迭代对象TextFileReader,reader.get_chunk(5)返回前五条数据\n",
    "df_test_org  = pd.read_csv(fp_test,  chunksize = 10000000, iterator = True)\n",
    "\n",
    "# print(df_train_ini.head())\n",
    "# print(\"==\"*50)\n",
    "# print(df_train_org.get_chunk(5))\n",
    "# print(\"==\"*50)\n",
    "# print(df_test_org.get_chunk(5))\n",
    "\n",
    "#----- 统计分类变量 数值个数 -----#\n",
    "## 初始化\n",
    "cols_counts = {}  # 统计每个特征的分类数量\n",
    "for col in cols:\n",
    "    cols_counts[col] = df_train_ini[col].value_counts()\n",
    "\n",
    "## 统计训练集\n",
    "for chunk in df_train_org:\n",
    "    for col in cols:\n",
    "        cols_counts[col] = cols_counts[col].append(chunk[col].value_counts())   \n",
    "\n",
    "## 统计测试集\n",
    "for chunk in df_test_org:\n",
    "    for col in cols:\n",
    "        cols_counts[col] = cols_counts[col].append(chunk[col].value_counts())\n",
    "\n",
    "## 统计      ??? 多统计了一次df_train_ini的特征\n",
    "for col in cols:\n",
    "    cols_counts[col] = cols_counts[col].groupby(cols_counts[col].index).sum()\n",
    "    # sort the counts\n",
    "    cols_counts[col] = cols_counts[col].sort_values(ascending=False)   \n",
    "\n",
    "## 存储value_counting\n",
    "pickle.dump(cols_counts, open(fp_col_counts, 'wb'))\n",
    "\n",
    "## 绘制分布\n",
    "fig = plt.figure(1)\n",
    "for i, col in enumerate(cols):\n",
    "    ax = fig.add_subplot(4, 3, i+1)\n",
    "    ax.fill_between(np.arange(len(cols_counts[col])), cols_counts[col].get_values())\n",
    "    # ax.set_title(col)\n",
    "plt.show()"
   ]
  },
  {
   "cell_type": "code",
   "execution_count": 3,
   "metadata": {
    "code_folding": []
   },
   "outputs": [
    {
     "name": "stdout",
     "output_type": "stream",
     "text": [
      "ok\n"
     ]
    }
   ],
   "source": [
    "## 只保存前K个分类变量\n",
    "k = 99\n",
    "col_index = {}\n",
    "for col in cols:\n",
    "    col_index[col] = cols_counts[col][0: k].index\n",
    "\n",
    "df_train_org = pd.read_csv(fp_train, dtype = {'id': str}, chunksize = 10000000, iterator = True)\n",
    "df_test_org  = pd.read_csv(fp_test,  dtype = {'id': str}, chunksize = 10000000, iterator = True)\n",
    "\n",
    "## 训练集\n",
    "hd_flag = True  # add column names at 1-st row\n",
    "for chunk in df_train_org:\n",
    "    df = chunk.copy()\n",
    "    for col in cols:\n",
    "        df[col] = df[col].astype('object')\n",
    "        # 将所有稀有的分类转换成'other'\n",
    "        df.loc[~df[col].isin(col_index[col]), col] = 'other'    ####？？？？？？\n",
    "    with open(fp_train_f, 'a') as f:\n",
    "        df.to_csv(f, columns = cols_train, header = hd_flag, index = False)\n",
    "    hd_flag = False\n",
    "\n",
    "## 测试集\n",
    "hd_flag = True  # 第一个chunk需要有header\n",
    "for chunk in df_test_org:\n",
    "    df = chunk.copy()\n",
    "    for col in cols:\n",
    "        df[col] = df[col].astype('object')\n",
    "        # 设置其他不常用变量为other\n",
    "        df.loc[~df[col].isin(col_index[col]), col] = 'other'\n",
    "    with open(fp_test_f, 'a') as f:\n",
    "        df.to_csv(f, columns = cols_test, header = hd_flag, index = False)      \n",
    "    hd_flag = False    \n",
    "\n",
    "print(\"ok\")"
   ]
  },
  {
   "cell_type": "code",
   "execution_count": 4,
   "metadata": {
    "code_folding": []
   },
   "outputs": [
    {
     "name": "stdout",
     "output_type": "stream",
     "text": [
      "ok\n"
     ]
    }
   ],
   "source": [
    "## 对分类变量进行标签编码\n",
    "lb_enc = {}\n",
    "for col in cols:\n",
    "    col_index[col] = np.append(col_index[col], 'other')\n",
    "\n",
    "for col in cols:\n",
    "    lb_enc[col] = LabelEncoder()\n",
    "    lb_enc[col].fit(col_index[col])\n",
    "    \n",
    "## 存储标签编码\n",
    "pickle.dump(lb_enc, open(fp_lb_enc, 'wb'))\n",
    "\n",
    "## one-hot编码\n",
    "oh_enc = OneHotEncoder(cols)\n",
    "\n",
    "df_train_f = pd.read_csv(fp_train_f, index_col=None, chunksize=5000000, iterator=True)\n",
    "df_test_f  = pd.read_csv(fp_test_f, index_col=None, chunksize=5000000, iterator=True)\n",
    "\n",
    "for chunk in df_train_f:\n",
    "    oh_enc.fit(chunk)\n",
    "for chunk in df_test_f:\n",
    "    oh_enc.fit(chunk)\n",
    "    \n",
    "## 存储one-hot编码\n",
    "pickle.dump(oh_enc, open(fp_oh_enc, 'wb'))\n",
    "\n",
    "print(\"ok\")"
   ]
  },
  {
   "cell_type": "code",
   "execution_count": null,
   "metadata": {
    "code_folding": [
     0
    ],
    "collapsed": true
   },
   "outputs": [],
   "source": [
    "# 计算总训练样本 约46M\n",
    "n = sum(1 for line in open(fp_train_f)) - 1 \n",
    "# 保存下采样训练样本 2M\n",
    "s = 2000000\n",
    "\n",
    "## 设置哪些行不需要读 skip，不需要读的行数为n-s\n",
    "skip = sorted(random.sample(range(1, n+1), n-s)) \n",
    "df_train = pd.read_csv(fp_train_f, skiprows = skip)\n",
    "df_train.columns = cols_train\n",
    "\n",
    "## 存储下采样的结果\n",
    "df_train.to_csv(fp_sub_train_f, index=False) \n",
    "\n",
    "print(\"ok\")"
   ]
  },
  {
   "cell_type": "markdown",
   "metadata": {},
   "source": [
    "## CTR预测（LR）"
   ]
  },
  {
   "cell_type": "code",
   "execution_count": 9,
   "metadata": {
    "code_folding": [
     0
    ]
   },
   "outputs": [
    {
     "name": "stdout",
     "output_type": "stream",
     "text": [
      "training...\n",
      "training...\n",
      "LR model saved\n",
      "[0.5902272122294253, 0.5590883409976604]\n"
     ]
    },
    {
     "data": {
      "image/png": "[encoded data removed]",
      "text/plain": [
       "<matplotlib.figure.Figure at 0x1154327b8>"
      ]
     },
     "metadata": {},
     "output_type": "display_data"
    },
    {
     "name": "stdout",
     "output_type": "stream",
     "text": [
      "predicting...\n",
      "predicting...\n",
      "predicting...\n",
      "predicting...\n",
      "predicting...\n",
      "predicting...\n",
      "predicting...\n",
      "predicting...\n",
      "predicting...\n",
      "predicting...\n",
      "predicting...\n",
      "predicting...\n",
      "predicting...\n",
      "predicting...\n",
      "predicting...\n",
      "predicting...\n",
      "predicting...\n",
      "predicting...\n",
      "predicting...\n",
      "predicting...\n",
      "predicting...\n",
      "predicting...\n",
      "predicting...\n",
      "predicting...\n",
      "predicting...\n",
      "predicting...\n",
      "predicting...\n",
      "predicting...\n",
      "predicting...\n",
      "predicting...\n",
      "predicting...\n",
      "predicting...\n",
      "predicting...\n",
      "predicting...\n",
      "predicting...\n",
      "predicting...\n",
      "predicting...\n",
      "predicting...\n",
      "predicting...\n",
      "predicting...\n",
      "predicting...\n",
      "predicting...\n",
      "predicting...\n",
      "predicting...\n",
      "predicting...\n",
      "predicting...\n",
      "predicting...\n",
      "predicting...\n",
      "predicting...\n",
      "predicting...\n",
      "predicting...\n",
      "predicting...\n",
      "predicting...\n",
      "predicting...\n",
      "predicting...\n",
      "predicting...\n",
      "predicting...\n",
      "predicting...\n",
      "predicting...\n",
      "predicting...\n",
      "predicting...\n",
      "predicting...\n",
      "predicting...\n",
      "predicting...\n",
      "predicting...\n",
      "predicting...\n",
      "predicting...\n",
      "predicting...\n",
      "predicting...\n",
      "predicting...\n",
      "predicting...\n",
      "predicting...\n",
      "predicting...\n",
      "predicting...\n",
      "predicting...\n",
      "predicting...\n",
      "predicting...\n",
      "predicting...\n",
      "predicting...\n",
      "predicting...\n",
      "predicting...\n",
      "predicting...\n",
      "predicting...\n",
      "predicting...\n",
      "predicting...\n",
      "predicting...\n",
      "predicting...\n",
      "predicting...\n",
      "predicting...\n",
      "predicting...\n",
      "predicting...\n",
      "predicting...\n",
      "submittion completed\n"
     ]
    }
   ],
   "source": [
    "##==================== 设置文件路径File-Path (fp) ====================##\n",
    "file_path = '/Users/wangdonghui/Desktop/ZGZ/RS/dataset/avazu-ctr-prediction/' # mac路径\n",
    "# file_path = 'C:/Users/Administrator/Desktop/W/DataSet/avazu/' # win路径\n",
    "\n",
    "# 全量样本\n",
    "fp_train_f = file_path + \"train_f.csv\"\n",
    "# 小样本\n",
    "fp_sub_train_f = file_path + 'sub_train_f.csv'\n",
    "\n",
    "fp_test_f  = file_path + \"test_f.csv\"\n",
    "\n",
    "# one-hot编码保存\n",
    "fp_oh_enc = file_path + \"oh_enc\"\n",
    "# LR模型保存\n",
    "fp_lr_model = file_path + \"lr/lr_model\"\n",
    "# submission文件保存\n",
    "fp_sub = file_path + \"lr/LR_submission.csv\"\n",
    "\n",
    "##==================== LR模型 训练 ====================##\n",
    "oh_enc = pickle.load(open(fp_oh_enc, 'rb'))\n",
    "\n",
    "# 一个chunk块为5万行\n",
    "chunksize = 50000\n",
    "# df_train_f = pd.read_csv(fp_train_f, dtype={'id':str}, index_col=None, chunksize=chunksize, iterator=True) # 读取全量样本\n",
    "df_train_f = pd.read_csv(fp_sub_train_f, dtype={'id':str}, index_col=None, chunksize=chunksize, iterator=True) # 读取小样本\n",
    "# print(df_train_f.get_chunk(5))\n",
    "\n",
    "# 使用LogLoss作为LR的损失函数\n",
    "lr_model = SGDClassifier(loss='log')  \n",
    "scores = []\n",
    "\n",
    "# 使用k和i调整训练规模，训练样本 = 所有样本 / k\n",
    "k = 20 #100  \n",
    "i = 1\n",
    "for chunk in df_train_f:\n",
    "    # 根据K drop掉样本\n",
    "    if i < k: \n",
    "        i += 1\n",
    "        continue\n",
    "    print('training...')\n",
    "    i = 1\n",
    "    df_train = oh_enc.transform(chunk)\n",
    "    # LR训练\n",
    "    feature_train = df_train.columns.drop(['id', 'click'])\n",
    "    train_X = df_train[feature_train]\n",
    "    train_y = df_train['click'].astype('int')\n",
    "    lr_model.partial_fit(train_X, train_y, classes = [0,1])  # fitting\n",
    "    \n",
    "    # 训练结果logloss分数\n",
    "    y_pred = lr_model.predict_proba(train_X)[:, 1]\n",
    "    score = log_loss(train_y, y_pred)\n",
    "    scores.append(score)\n",
    "\n",
    "## 存储训练好的LR模型\n",
    "pickle.dump(lr_model, open(fp_lr_model, 'wb'))\n",
    "print('LR model saved')\n",
    "\n",
    "print(scores)\n",
    "#scores = [0.1, 0.2, 0.3, 0.4]\n",
    "## 绘制LR训练分数曲线\n",
    "#f1 = plt.figure(1)\n",
    "plt.title(\"LR Training Curve\") \n",
    "plt.plot(scores)\n",
    "plt.xlabel('iterations')\n",
    "plt.ylabel('log_loss')\n",
    "plt.title('log_loss of training')\n",
    "plt.grid()\n",
    "plt.show()\n",
    "\n",
    "import gc\n",
    "del lr_model\n",
    "del df_train_f\n",
    "gc.collect()\n",
    "\n",
    "##==================== 使用训练好的LR模型进行预测，提交submission ====================##\n",
    "df_test_f = pd.read_csv(fp_test_f, dtype={'id':str}, index_col=None, chunksize=chunksize, iterator=True)        \n",
    "lr_model = pickle.load(open(fp_lr_model, 'rb'))\n",
    "\n",
    "# 按照chunk对测试集进行预测\n",
    "header = True\n",
    "for chunk in df_test_f:\n",
    "    print('predicting...')\n",
    "    df_test = oh_enc.transform(chunk)\n",
    "    # 去掉ID字段\n",
    "    feature_test = df_test.columns.drop(['id'])\n",
    "    test_X = df_test[feature_test]\n",
    "    # 计算class=1的概率\n",
    "    y_pred = lr_model.predict_proba(test_X)[:, 1]  \n",
    "    # 得到submittion\n",
    "    chunk['click'] = y_pred\n",
    "    with open(fp_sub, 'a') as f: \n",
    "        # 只有第一次header=True，其余header=False\n",
    "        chunk.to_csv(f, columns=['id', 'click'], header=header, index=False) \n",
    "    header = False\n",
    "\n",
    "print('submittion completed')"
   ]
  },
  {
   "cell_type": "markdown",
   "metadata": {},
   "source": [
    "## CTR预测（lightGBM）"
   ]
  },
  {
   "cell_type": "code",
   "execution_count": 10,
   "metadata": {
    "code_folding": [],
    "scrolled": true
   },
   "outputs": [
    {
     "name": "stdout",
     "output_type": "stream",
     "text": [
      "OneHotEncoder...\n",
      "ok\n",
      "ok\n",
      "ok\n",
      "ok\n",
      "ok\n",
      "ok\n",
      "ok\n",
      "ok\n",
      "ok\n",
      "ok\n",
      "ok\n",
      "ok\n",
      "ok\n",
      "ok\n",
      "ok\n",
      "ok\n",
      "ok\n",
      "ok\n",
      "ok\n",
      "ok\n"
     ]
    },
    {
     "ename": "KeyboardInterrupt",
     "evalue": "",
     "output_type": "error",
     "traceback": [
      "\u001b[0;31m---------------------------------------------------------------------------\u001b[0m",
      "\u001b[0;31mKeyboardInterrupt\u001b[0m                         Traceback (most recent call last)",
      "\u001b[0;32m<ipython-input-10-ec8ab25d8e58>\u001b[0m in \u001b[0;36m<module>\u001b[0;34m()\u001b[0m\n\u001b[1;32m     38\u001b[0m         \u001b[0mdf_processed_train\u001b[0m\u001b[0;34m=\u001b[0m\u001b[0mdf\u001b[0m\u001b[0;34m\u001b[0m\u001b[0m\n\u001b[1;32m     39\u001b[0m     \u001b[0;32melse\u001b[0m\u001b[0;34m:\u001b[0m\u001b[0;34m\u001b[0m\u001b[0m\n\u001b[0;32m---> 40\u001b[0;31m         \u001b[0mdf_processed_train\u001b[0m\u001b[0;34m=\u001b[0m\u001b[0mpd\u001b[0m\u001b[0;34m.\u001b[0m\u001b[0mconcat\u001b[0m\u001b[0;34m(\u001b[0m\u001b[0;34m[\u001b[0m\u001b[0mdf_processed_train\u001b[0m\u001b[0;34m,\u001b[0m\u001b[0mdf\u001b[0m\u001b[0;34m]\u001b[0m\u001b[0;34m)\u001b[0m\u001b[0;34m\u001b[0m\u001b[0m\n\u001b[0m\u001b[1;32m     41\u001b[0m     \u001b[0mfirst_flag\u001b[0m \u001b[0;34m=\u001b[0m \u001b[0;32mFalse\u001b[0m\u001b[0;34m\u001b[0m\u001b[0m\n\u001b[1;32m     42\u001b[0m \u001b[0mdf_processed_train\u001b[0m\u001b[0;34m.\u001b[0m\u001b[0minfo\u001b[0m\u001b[0;34m(\u001b[0m\u001b[0;34m)\u001b[0m\u001b[0;34m\u001b[0m\u001b[0m\n",
      "\u001b[0;31mKeyboardInterrupt\u001b[0m: "
     ]
    }
   ],
   "source": [
    "##==================== 设置文件路径File-Path (fp) ====================##\n",
    "file_path = '/Users/wangdonghui/Desktop/ZGZ/RS/dataset/avazu-ctr-prediction/' # mac路径\n",
    "# file_path = 'C:/Users/Administrator/Desktop/W/DataSet/avazu/' # win路径\n",
    "\n",
    "# 全量样本\n",
    "fp_train_f = file_path + \"train_f.csv\"\n",
    "# 小样本\n",
    "fp_sub_train_f = file_path + 'sub_train_f.csv'\n",
    "# 测试样本\n",
    "fp_test_f  = file_path + \"test_f.csv\"\n",
    "# # 数据处理后样本保存\n",
    "# fp_processed_train_f = file_path + \"processed_train_f.csv\"\n",
    "\n",
    "# 标签编码保存\n",
    "fp_lb_enc = file_path + 'lb_enc'\n",
    "# one-hot编码保存\n",
    "fp_oh_enc = file_path + \"oh_enc\"\n",
    "# lightgbm模型保存\n",
    "fp_lgb_model = file_path + \"lgb/lgb_model\"\n",
    "# submission文件保存\n",
    "fp_sub = file_path + \"lgb/lgb_submission.csv\"\n",
    "\n",
    "##==================== 训练数据加载、处理 ====================##\n",
    "oh_enc = pickle.load(open(fp_oh_enc, 'rb'))\n",
    "\n",
    "# 一个chunk块为5万行\n",
    "chunksize = 50000\n",
    "# df_train_f = pd.read_csv(fp_train_f, dtype={'id':str}, index_col=None, chunksize=chunksize, iterator=True) # 读取全量样本\n",
    "df_train_f = pd.read_csv(fp_sub_train_f, dtype={'id':str}, index_col=None, chunksize=chunksize, iterator=True) # 读取小样本\n",
    "\n",
    "# one_hot编码\n",
    "print(\"OneHotEncoder...\")\n",
    "first_flag = True\n",
    "for chunk in tqdm(df_train_f):\n",
    "    print(\"ok\")\n",
    "    df = oh_enc.transform(chunk)\n",
    "    if first_flag:\n",
    "        df_processed_train=df\n",
    "    else:\n",
    "        df_processed_train=pd.concat([df_processed_train,df])\n",
    "    first_flag = False              \n",
    "df_processed_train.info()\n",
    "\n",
    "del df_train_f\n",
    "gc.collect()\n",
    "# df_processed_train保存到文件（注意索引）\n",
    "\n",
    "# 最好还是分块处理，看看lightgbm怎么递增式训练"
   ]
  },
  {
   "cell_type": "code",
   "execution_count": null,
   "metadata": {
    "collapsed": true
   },
   "outputs": [],
   "source": [
    "##==================== lightgbm模型 训练 ====================##\n",
    "# 加载处理好的训练数据\n",
    "\n",
    "# 使用LogLoss作为LR的损失函数\n",
    "lgb_params = {\n",
    "    'boosting_type':'gbdt',\n",
    "    'objective' : 'binary_logloss', #任务类型\n",
    "    'metric' : 'auc', #评估指标\n",
    "    'learning_rate' : 0.01, #学习率\n",
    "    'max_depth' : 15, #树的最大深度\n",
    "    'feature_fraction':0.8, #设置在每次迭代中使用特征的比例\n",
    "    'bagging_fraction': 0.9, #样本采样比例\n",
    "    'bagging_freq': 8, #bagging的次数\n",
    "    'lambda_l1': 0.6, #L1正则\n",
    "    'lambda_l2': 0, #L2正则\n",
    "}\n",
    "\n",
    "print(\"training...\")\n",
    "\n",
    "X_train, X_valid, y_train, y_valid = train_test_split(df_processed_train.drop(['id', 'click'],axis=1), df_processed_train['click'], test_size=0.2, random_state=42)\n",
    "train_data = lgb.Dataset(X_train, label=y_train)\n",
    "valid_data = lgb.Dataset(X_valid, label=y_valid)\n",
    "lgb_model = lgb.train(lgb_params,train_data,valid_sets=[train_data,valid_data],num_boost_round = 10000 ,early_stopping_rounds=200,verbose_eval=25, categorical_feature=\"click\")\n",
    "\n",
    "\n",
    "## 存储训练好的lightgbm模型\n",
    "pickle.dump(lgb_model, open(fp_lgb_model, 'wb'))\n",
    "print('lightGBM model saved')\n",
    "\n",
    "del lgb_model\n",
    "del df_processed_train\n",
    "gc.collect()"
   ]
  },
  {
   "cell_type": "code",
   "execution_count": null,
   "metadata": {
    "collapsed": true
   },
   "outputs": [],
   "source": [
    "##==================== 测试数据加载、处理 ====================##\n",
    "df_test_f = pd.read_csv(fp_test_f, dtype={'id':str}, index_col=None, chunksize=chunksize, iterator=True)\n",
    "for chunk in tqdm(df_test_f):\n",
    "    pass\n",
    "\n",
    "\n",
    "del\n",
    "gc.collect()\n",
    "# 保存到文件"
   ]
  },
  {
   "cell_type": "code",
   "execution_count": null,
   "metadata": {
    "collapsed": true
   },
   "outputs": [],
   "source": [
    "##==================== 使用训练好的lightgbm模型进行预测，提交submission ====================##\n",
    "# 加载处理好的测试数据\n",
    "\n",
    "# predict=lgb_model.predict(test)\n",
    "# test['Attrition']=predict\n",
    "# # 转化为二分类输出\n",
    "# test['Attrition']=test['Attrition'].map(lambda x:1 if x>=0.5 else 0)\n",
    "# test[['Attrition']].to_csv('submit_lgb.csv')\n",
    "\n",
    "# df_test_f = pd.read_csv(fp_test_f, dtype={'id':str}, index_col=None, chunksize=chunksize, iterator=True)        \n",
    "# lr_model = pickle.load(open(fp_lr_model, 'rb'))\n",
    "\n",
    "# # 按照chunk对测试集进行预测\n",
    "# header = True\n",
    "# for chunk in df_test_f:\n",
    "#     print('predicting...')\n",
    "#     df_test = oh_enc.transform(chunk)\n",
    "#     # 去掉ID字段\n",
    "#     feature_test = df_test.columns.drop(['id'])\n",
    "#     test_X = df_test[feature_test]\n",
    "#     # 计算class=1的概率\n",
    "#     y_pred = lr_model.predict_proba(test_X)[:, 1]  \n",
    "#     # 得到submittion\n",
    "#     chunk['click'] = y_pred\n",
    "#     with open(fp_sub, 'a') as f: \n",
    "#         # 只有第一次header=True，其余header=False\n",
    "#         chunk.to_csv(f, columns=['id', 'click'], header=header, index=False) \n",
    "#     header = False\n",
    "\n",
    "print('submittion completed')"
   ]
  },
  {
   "cell_type": "markdown",
   "metadata": {},
   "source": [
    "## 问题"
   ]
  },
  {
   "cell_type": "markdown",
   "metadata": {},
   "source": [
    "* 矩阵分解的作用是补全矩阵缺失的评分，但是当预测集中出现训练集中没有的新用户或新电影，矩阵分解(SVD)好像也能得到预测评分，这是为什么呢？"
   ]
  }
 ],
 "metadata": {
  "kernelspec": {
   "display_name": "Python 3",
   "language": "python",
   "name": "python3"
  },
  "language_info": {
   "codemirror_mode": {
    "name": "ipython",
    "version": 3
   },
   "file_extension": ".py",
   "mimetype": "text/x-python",
   "name": "python",
   "nbconvert_exporter": "python",
   "pygments_lexer": "ipython3",
   "version": "3.6.3"
  },
  "toc": {
   "base_numbering": 1,
   "nav_menu": {},
   "number_sections": true,
   "sideBar": true,
   "skip_h1_title": false,
   "title_cell": "Table of Contents",
   "title_sidebar": "Contents",
   "toc_cell": false,
   "toc_position": {
    "height": "calc(100% - 180px)",
    "left": "10px",
    "top": "150px",
    "width": "165px"
   },
   "toc_section_display": true,
   "toc_window_display": true
  }
 },
 "nbformat": 4,
 "nbformat_minor": 2
}
