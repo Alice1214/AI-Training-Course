{
 "cells": [
  {
   "cell_type": "markdown",
   "metadata": {},
   "source": [
    "# Avazu CTR广告点击率预测（lightGBM）"
   ]
  },
  {
   "cell_type": "markdown",
   "metadata": {},
   "source": [
    "* Content：对Netflix数据集进行评分预测\n",
    "* Author:  HuiHui\n",
    "* Date:    2020-06-01\n",
    "* Reference:https://www.kaggle.com/c/avazu-ctr-prediction"
   ]
  },
  {
   "cell_type": "markdown",
   "metadata": {},
   "source": [
    "## 提交说明"
   ]
  },
  {
   "cell_type": "markdown",
   "metadata": {},
   "source": [
    "* 说明采用的模型，LogLoss值\n",
    "* 提交结果，评分截图"
   ]
  },
  {
   "cell_type": "markdown",
   "metadata": {},
   "source": [
    "## Avazu数据集"
   ]
  },
  {
   "cell_type": "markdown",
   "metadata": {},
   "source": [
    "* **训练集：**10天的点击数据，按时间顺序排列。根据不同的策略对非点击和点击进行二次采样。\n",
    "* **测试集：** 1天的广告用于测试模型   \n",
    "* **提交文件：**\n",
    "* **字段：**  \n",
    "&emsp;**click:** 0-不点击，1-点击   \n",
    "&emsp;**C1，C14-C21：**匿名分类变量  \n",
    "&emsp;**hour:** 格式为YYMMDDHH"
   ]
  },
  {
   "cell_type": "markdown",
   "metadata": {},
   "source": [
    "## 导入相关库"
   ]
  },
  {
   "cell_type": "code",
   "execution_count": 5,
   "metadata": {},
   "outputs": [],
   "source": [
    "# !/usr/bin/env python\n",
    "# -*- coding=utf-8 -*-\n",
    "import pandas as pd\n",
    "import numpy as np\n",
    "import matplotlib.pyplot as plt\n",
    "%matplotlib inline\n",
    "import sklearn\n",
    "from sklearn.preprocessing import LabelEncoder\n",
    "from dummyPy import OneHotEncoder\n",
    "import random\n",
    "import pickle  # 存储临时变量\n",
    "\n",
    "from sklearn.linear_model import SGDClassifier  # 梯度下降分类\n",
    "from sklearn.metrics import log_loss\n",
    "import lightgbm as lgb\n",
    "from sklearn.model_selection import train_test_split"
   ]
  },
  {
   "cell_type": "markdown",
   "metadata": {},
   "source": [
    "## 数据预处理"
   ]
  },
  {
   "cell_type": "markdown",
   "metadata": {},
   "source": [
    "* 特征选择  \n",
    "* 绘制分类数据分布图\n",
    "* 将所有不常用的分类转换成'other'\n",
    "* LabelEncoder、OneHotEncoder\n",
    "* 下采样训练样本"
   ]
  },
  {
   "cell_type": "code",
   "execution_count": 2,
   "metadata": {
    "code_folding": [
     0
    ]
   },
   "outputs": [
    {
     "name": "stdout",
     "output_type": "stream",
     "text": [
      "loading data...\n"
     ]
    },
    {
     "data": {
      "image/png": "[encoded data removed]",
      "text/plain": [
       "<Figure size 432x288 with 12 Axes>"
      ]
     },
     "metadata": {},
     "output_type": "display_data"
    }
   ],
   "source": [
    "## 读文件\n",
    "# file_path = '/Users/wangdonghui/Desktop/ZGZ/RS/dataset/avazu-ctr-prediction/' # mac路径\n",
    "file_path = 'C:/Users/Administrator/Desktop/W/DataSet/avazu/' # win路径\n",
    "fp_train = file_path + 'train.csv'\n",
    "fp_test  = file_path + 'test.csv'\n",
    "\n",
    "## 下采样写文件\n",
    "fp_sub_train_f = file_path + 'sub_train_f.csv'\n",
    "fp_col_counts = file_path + 'col_counts'\n",
    "\n",
    "## data after selecting features (LR_fun needed)\n",
    "## and setting rare categories' value to 'other' (feature filtering)\n",
    "fp_train_f = file_path + 'train_f.csv'\n",
    "fp_test_f  = file_path + 'test_f.csv'\n",
    "\n",
    "## 存储标签编码和one-hot编码\n",
    "fp_lb_enc = file_path + 'lb_enc'\n",
    "fp_oh_enc = file_path + 'oh_enc'\n",
    "\n",
    "##==================== 数据预处理 ====================##\n",
    "# 特征选择\n",
    "cols = ['C1', \n",
    "        'banner_pos', \n",
    "        'site_domain', \n",
    "        'site_id',\n",
    "        'site_category',\n",
    "        'app_id',\n",
    "        'app_category', \n",
    "        'device_type', \n",
    "        'device_conn_type',\n",
    "        'C14', \n",
    "        'C15',\n",
    "        'C16']\n",
    "\n",
    "cols_train = ['id', 'click']\n",
    "cols_test  = ['id']\n",
    "cols_train.extend(cols)\n",
    "cols_test.extend(cols)\n",
    "\n",
    "## 数据加载\n",
    "print('loading data...')\n",
    "df_train_ini = pd.read_csv(fp_train, nrows = 10)# nrows = 10读取一个大文件中的几行数据\n",
    "df_train_org = pd.read_csv(fp_train, chunksize = 10000000, iterator = True)# 分块读取,iterator = True返回一个可迭代对象TextFileReader,reader.get_chunk(5)返回前五条数据\n",
    "df_test_org  = pd.read_csv(fp_test,  chunksize = 10000000, iterator = True)\n",
    "\n",
    "# print(df_train_ini.head())\n",
    "# print(\"==\"*50)\n",
    "# print(df_train_org.get_chunk(5))\n",
    "# print(\"==\"*50)\n",
    "# print(df_test_org.get_chunk(5))\n",
    "\n",
    "#----- 统计分类变量 数值个数 -----#\n",
    "## 初始化\n",
    "cols_counts = {}  # 统计每个特征的分类数量\n",
    "for col in cols:\n",
    "    cols_counts[col] = df_train_ini[col].value_counts()\n",
    "\n",
    "## 统计训练集\n",
    "for chunk in df_train_org:\n",
    "    for col in cols:\n",
    "        cols_counts[col] = cols_counts[col].append(chunk[col].value_counts())   \n",
    "\n",
    "## 统计测试集\n",
    "for chunk in df_test_org:\n",
    "    for col in cols:\n",
    "        cols_counts[col] = cols_counts[col].append(chunk[col].value_counts())\n",
    "\n",
    "## 统计      ??? 多统计了一次df_train_ini的特征\n",
    "for col in cols:\n",
    "    cols_counts[col] = cols_counts[col].groupby(cols_counts[col].index).sum()\n",
    "    # sort the counts\n",
    "    cols_counts[col] = cols_counts[col].sort_values(ascending=False)   \n",
    "\n",
    "## 存储value_counting\n",
    "pickle.dump(cols_counts, open(fp_col_counts, 'wb'))\n",
    "\n",
    "## 绘制分布\n",
    "fig = plt.figure(1)\n",
    "for i, col in enumerate(cols):\n",
    "    ax = fig.add_subplot(4, 3, i+1)\n",
    "    ax.fill_between(np.arange(len(cols_counts[col])), cols_counts[col].get_values())\n",
    "    # ax.set_title(col)\n",
    "plt.show()"
   ]
  },
  {
   "cell_type": "code",
   "execution_count": 3,
   "metadata": {
    "code_folding": [
     0
    ]
   },
   "outputs": [
    {
     "name": "stdout",
     "output_type": "stream",
     "text": [
      "ok\n"
     ]
    }
   ],
   "source": [
    "## 只保存前K个分类变量\n",
    "k = 99\n",
    "col_index = {}\n",
    "for col in cols:\n",
    "    col_index[col] = cols_counts[col][0: k].index\n",
    "\n",
    "df_train_org = pd.read_csv(fp_train, dtype = {'id': str}, chunksize = 10000000, iterator = True)\n",
    "df_test_org  = pd.read_csv(fp_test,  dtype = {'id': str}, chunksize = 10000000, iterator = True)\n",
    "\n",
    "## 训练集\n",
    "hd_flag = True  # add column names at 1-st row\n",
    "for chunk in df_train_org:\n",
    "    df = chunk.copy()\n",
    "    for col in cols:\n",
    "        df[col] = df[col].astype('object')\n",
    "        # 将所有稀有的分类转换成'other'\n",
    "        df.loc[~df[col].isin(col_index[col]), col] = 'other'    ####？？？？？？\n",
    "    with open(fp_train_f, 'a') as f:\n",
    "        df.to_csv(f, columns = cols_train, header = hd_flag, index = False)\n",
    "    hd_flag = False\n",
    "\n",
    "## 测试集\n",
    "hd_flag = True  # 第一个chunk需要有header\n",
    "for chunk in df_test_org:\n",
    "    df = chunk.copy()\n",
    "    for col in cols:\n",
    "        df[col] = df[col].astype('object')\n",
    "        # 设置其他不常用变量为other\n",
    "        df.loc[~df[col].isin(col_index[col]), col] = 'other'\n",
    "    with open(fp_test_f, 'a') as f:\n",
    "        df.to_csv(f, columns = cols_test, header = hd_flag, index = False)      \n",
    "    hd_flag = False    \n",
    "\n",
    "print(\"ok\")"
   ]
  },
  {
   "cell_type": "code",
   "execution_count": 4,
   "metadata": {
    "code_folding": []
   },
   "outputs": [
    {
     "name": "stdout",
     "output_type": "stream",
     "text": [
      "ok\n"
     ]
    }
   ],
   "source": [
    "## 对分类变量进行标签编码\n",
    "lb_enc = {}\n",
    "for col in cols:\n",
    "    col_index[col] = np.append(col_index[col], 'other')\n",
    "\n",
    "for col in cols:\n",
    "    lb_enc[col] = LabelEncoder()\n",
    "    lb_enc[col].fit(col_index[col])\n",
    "    \n",
    "## 存储标签编码\n",
    "pickle.dump(lb_enc, open(fp_lb_enc, 'wb'))\n",
    "\n",
    "## one-hot编码\n",
    "oh_enc = OneHotEncoder(cols)\n",
    "\n",
    "df_train_f = pd.read_csv(fp_train_f, index_col=None, chunksize=5000000, iterator=True)\n",
    "df_test_f  = pd.read_csv(fp_test_f, index_col=None, chunksize=5000000, iterator=True)\n",
    "\n",
    "for chunk in df_train_f:\n",
    "    oh_enc.fit(chunk)\n",
    "for chunk in df_test_f:\n",
    "    oh_enc.fit(chunk)\n",
    "    \n",
    "## 存储one-hot编码\n",
    "pickle.dump(oh_enc, open(fp_oh_enc, 'wb'))\n",
    "\n",
    "print(\"ok\")"
   ]
  },
  {
   "cell_type": "code",
   "execution_count": null,
   "metadata": {
    "code_folding": [
     0
    ],
    "collapsed": true
   },
   "outputs": [],
   "source": [
    "# 计算总训练样本 约46M\n",
    "n = sum(1 for line in open(fp_train_f)) - 1 \n",
    "# 保存下采样训练样本 2M\n",
    "s = 2000000\n",
    "\n",
    "## 设置哪些行不需要读 skip，不需要读的行数为n-s\n",
    "skip = sorted(random.sample(range(1, n+1), n-s)) \n",
    "df_train = pd.read_csv(fp_train_f, skiprows = skip)\n",
    "df_train.columns = cols_train\n",
    "\n",
    "## 存储下采样的结果\n",
    "df_train.to_csv(fp_sub_train_f, index=False) \n",
    "\n",
    "print(\"ok\")"
   ]
  },
  {
   "cell_type": "markdown",
   "metadata": {},
   "source": [
    "## CTR预测（LR）"
   ]
  },
  {
   "cell_type": "code",
   "execution_count": 9,
   "metadata": {
    "code_folding": []
   },
   "outputs": [
    {
     "name": "stdout",
     "output_type": "stream",
     "text": [
      "training...\n",
      "training...\n",
      "LR model saved\n",
      "[0.5902272122294253, 0.5590883409976604]\n"
     ]
    },
    {
     "data": {
      "image/png": "[encoded data removed]",
      "text/plain": [
       "<matplotlib.figure.Figure at 0x1154327b8>"
      ]
     },
     "metadata": {},
     "output_type": "display_data"
    },
    {
     "name": "stdout",
     "output_type": "stream",
     "text": [
      "predicting...\n",
      "predicting...\n",
      "predicting...\n",
      "predicting...\n",
      "predicting...\n",
      "predicting...\n",
      "predicting...\n",
      "predicting...\n",
      "predicting...\n",
      "predicting...\n",
      "predicting...\n",
      "predicting...\n",
      "predicting...\n",
      "predicting...\n",
      "predicting...\n",
      "predicting...\n",
      "predicting...\n",
      "predicting...\n",
      "predicting...\n",
      "predicting...\n",
      "predicting...\n",
      "predicting...\n",
      "predicting...\n",
      "predicting...\n",
      "predicting...\n",
      "predicting...\n",
      "predicting...\n",
      "predicting...\n",
      "predicting...\n",
      "predicting...\n",
      "predicting...\n",
      "predicting...\n",
      "predicting...\n",
      "predicting...\n",
      "predicting...\n",
      "predicting...\n",
      "predicting...\n",
      "predicting...\n",
      "predicting...\n",
      "predicting...\n",
      "predicting...\n",
      "predicting...\n",
      "predicting...\n",
      "predicting...\n",
      "predicting...\n",
      "predicting...\n",
      "predicting...\n",
      "predicting...\n",
      "predicting...\n",
      "predicting...\n",
      "predicting...\n",
      "predicting...\n",
      "predicting...\n",
      "predicting...\n",
      "predicting...\n",
      "predicting...\n",
      "predicting...\n",
      "predicting...\n",
      "predicting...\n",
      "predicting...\n",
      "predicting...\n",
      "predicting...\n",
      "predicting...\n",
      "predicting...\n",
      "predicting...\n",
      "predicting...\n",
      "predicting...\n",
      "predicting...\n",
      "predicting...\n",
      "predicting...\n",
      "predicting...\n",
      "predicting...\n",
      "predicting...\n",
      "predicting...\n",
      "predicting...\n",
      "predicting...\n",
      "predicting...\n",
      "predicting...\n",
      "predicting...\n",
      "predicting...\n",
      "predicting...\n",
      "predicting...\n",
      "predicting...\n",
      "predicting...\n",
      "predicting...\n",
      "predicting...\n",
      "predicting...\n",
      "predicting...\n",
      "predicting...\n",
      "predicting...\n",
      "predicting...\n",
      "predicting...\n",
      "submittion completed\n"
     ]
    }
   ],
   "source": [
    "##==================== 设置文件路径File-Path (fp) ====================##\n",
    "file_path = '/Users/wangdonghui/Desktop/ZGZ/RS/dataset/avazu-ctr-prediction/' # mac路径\n",
    "# file_path = 'C:/Users/Administrator/Desktop/W/DataSet/avazu/' # win路径\n",
    "\n",
    "# 全量样本\n",
    "fp_train_f = file_path + \"train_f.csv\"\n",
    "# 小样本\n",
    "fp_sub_train_f = file_path + 'sub_train_f.csv'\n",
    "\n",
    "fp_test_f  = file_path + \"test_f.csv\"\n",
    "\n",
    "# one-hot编码保存\n",
    "fp_oh_enc = file_path + \"oh_enc\"\n",
    "# LR模型保存\n",
    "fp_lr_model = file_path + \"lr/lr_model\"\n",
    "# submission文件保存\n",
    "fp_sub = file_path + \"lr/LR_submission.csv\"\n",
    "\n",
    "##==================== LR模型 训练 ====================##\n",
    "oh_enc = pickle.load(open(fp_oh_enc, 'rb'))\n",
    "\n",
    "# 一个chunk块为5万行\n",
    "chunksize = 50000\n",
    "# df_train_f = pd.read_csv(fp_train_f, dtype={'id':str}, index_col=None, chunksize=chunksize, iterator=True) # 读取全量样本\n",
    "df_train_f = pd.read_csv(fp_sub_train_f, dtype={'id':str}, index_col=None, chunksize=chunksize, iterator=True) # 读取小样本\n",
    "# print(df_train_f.get_chunk(5))\n",
    "\n",
    "# 使用LogLoss作为LR的损失函数\n",
    "lr_model = SGDClassifier(loss='log')  \n",
    "scores = []\n",
    "\n",
    "# 使用k和i调整训练规模，训练样本 = 所有样本 / k\n",
    "k = 20 #100  \n",
    "i = 1\n",
    "for chunk in df_train_f:\n",
    "    # 根据K drop掉样本\n",
    "    if i < k: \n",
    "        i += 1\n",
    "        continue\n",
    "    print('training...')\n",
    "    i = 1\n",
    "    df_train = oh_enc.transform(chunk)\n",
    "    # LR训练\n",
    "    feature_train = df_train.columns.drop(['id', 'click'])\n",
    "    train_X = df_train[feature_train]\n",
    "    train_y = df_train['click'].astype('int')\n",
    "    lr_model.partial_fit(train_X, train_y, classes = [0,1])  # fitting\n",
    "    \n",
    "    # 训练结果logloss分数\n",
    "    y_pred = lr_model.predict_proba(train_X)[:, 1]\n",
    "    score = log_loss(train_y, y_pred)\n",
    "    scores.append(score)\n",
    "\n",
    "## 存储训练好的LR模型\n",
    "pickle.dump(lr_model, open(fp_lr_model, 'wb'))\n",
    "print('LR model saved')\n",
    "\n",
    "print(scores)\n",
    "#scores = [0.1, 0.2, 0.3, 0.4]\n",
    "## 绘制LR训练分数曲线\n",
    "#f1 = plt.figure(1)\n",
    "plt.title(\"LR Training Curve\") \n",
    "plt.plot(scores)\n",
    "plt.xlabel('iterations')\n",
    "plt.ylabel('log_loss')\n",
    "plt.title('log_loss of training')\n",
    "plt.grid()\n",
    "plt.show()\n",
    "\n",
    "import gc\n",
    "del lr_model\n",
    "del df_train_f\n",
    "gc.collect()\n",
    "\n",
    "##==================== 使用训练好的LR模型进行预测，提交submission ====================##\n",
    "df_test_f = pd.read_csv(fp_test_f, dtype={'id':str}, index_col=None, chunksize=chunksize, iterator=True)        \n",
    "lr_model = pickle.load(open(fp_lr_model, 'rb'))\n",
    "\n",
    "# 按照chunk对测试集进行预测\n",
    "header = True\n",
    "for chunk in df_test_f:\n",
    "    print('predicting...')\n",
    "    df_test = oh_enc.transform(chunk)\n",
    "    # 去掉ID字段\n",
    "    feature_test = df_test.columns.drop(['id'])\n",
    "    test_X = df_test[feature_test]\n",
    "    # 计算class=1的概率\n",
    "    y_pred = lr_model.predict_proba(test_X)[:, 1]  \n",
    "    # 得到submittion\n",
    "    chunk['click'] = y_pred\n",
    "    with open(fp_sub, 'a') as f: \n",
    "        # 只有第一次header=True，其余header=False\n",
    "        chunk.to_csv(f, columns=['id', 'click'], header=header, index=False) \n",
    "    header = False\n",
    "\n",
    "print('submittion completed')"
   ]
  },
  {
   "cell_type": "markdown",
   "metadata": {},
   "source": [
    "## CTR预测（lightGBM）"
   ]
  },
  {
   "cell_type": "code",
   "execution_count": 16,
   "metadata": {},
   "outputs": [
    {
     "name": "stdout",
     "output_type": "stream",
     "text": [
      "<class 'pandas.core.frame.DataFrame'>\n",
      "RangeIndex: 2000000 entries, 0 to 1999999\n",
      "Data columns (total 14 columns):\n",
      "id                  object\n",
      "click               int64\n",
      "C1                  int64\n",
      "banner_pos          int64\n",
      "site_domain         object\n",
      "site_id             object\n",
      "site_category       object\n",
      "app_id              object\n",
      "app_category        object\n",
      "device_type         int64\n",
      "device_conn_type    int64\n",
      "C14                 object\n",
      "C15                 int64\n",
      "C16                 int64\n",
      "dtypes: int64(7), object(7)\n",
      "memory usage: 213.6+ MB\n",
      "ok\n",
      "training...\n"
     ]
    },
    {
     "name": "stderr",
     "output_type": "stream",
     "text": [
      "D:\\Program Files (x86)\\Microsoft Visual Studio\\Shared\\Anaconda3_64\\lib\\site-packages\\lightgbm\\basic.py:1295: UserWarning: categorical_feature in Dataset is overridden.\n",
      "New categorical_feature is ['c', 'c', 'i', 'k', 'l']\n",
      "  'New categorical_feature is {}'.format(sorted(list(categorical_feature))))\n"
     ]
    },
    {
     "ename": "ValueError",
     "evalue": "DataFrame.dtypes for data must be int, float or bool.\nDid not expect the data types in the following fields: C1_1001, C1_1002, C1_1005, C1_1007, C1_1008, C1_1010, C1_1012, banner_pos_0, banner_pos_1, banner_pos_2, banner_pos_3, banner_pos_4, banner_pos_5, banner_pos_7, site_domain_08facbad, site_domain_0a4015b2, site_domain_0d3cb7be, site_domain_0dde25ec, site_domain_16a36ef3, site_domain_17d996e6, site_domain_1b32ed33, site_domain_1e0acfb4, site_domain_1e334bd3, site_domain_2296b5b3, site_domain_250469f8, site_domain_272c5d9d, site_domain_27e3c518, site_domain_28f93029, site_domain_2c5a2165, site_domain_2d235ae0, site_domain_30518255, site_domain_3f2f3819, site_domain_422b8953, site_domain_449497bc, site_domain_4c26e9ba, site_domain_510bd839, site_domain_5449fde7, site_domain_58a89a43, site_domain_5b626596, site_domain_5c9ae867, site_domain_5c9c05b7, site_domain_5dddf09e, site_domain_61eac15d, site_domain_64778742, site_domain_6b560cc1, site_domain_6b59f079, site_domain_6bdbd889, site_domain_6dbd48f0, site_domain_6e882918, site_domain_7256c623, site_domain_759d1c56, site_domain_75f9ddc3, site_domain_7687a86e, site_domain_77c8e77d, site_domain_7804dea6, site_domain_7d05db75, site_domain_7e091613, site_domain_7e1e7bdf, site_domain_7e3be6ba, site_domain_8025317b, site_domain_863fa89d, site_domain_8a429b45, site_domain_91cdcccd, site_domain_945bfb4b, site_domain_948ff336, site_domain_964a3bd1, site_domain_968765cd, site_domain_9690165f, site_domain_98572c79, site_domain_98acf46c, site_domain_98e6755b, site_domain_9b421927, site_domain_9b851bd8, site_domain_9cf7de2f, site_domain_9d54950b, site_domain_9eaf88fa, site_domain_9f448720, site_domain_a10eb148, site_domain_a17bde68, site_domain_a434fa42, site_domain_a9bba545, site_domain_ac5abf20, site_domain_ace5b8fd, site_domain_b12b9f85, site_domain_b4598159, site_domain_b9c4ab81, site_domain_bb1ef334, site_domain_bd6d812f, site_domain_bea33b9a, site_domain_c1aa3c04, site_domain_c4342784, site_domain_c4e18dd6, site_domain_c7ca3108, site_domain_c7dcd9d1, site_domain_c8223ee3, site_domain_cc962a1f, site_domain_ce307e01, site_domain_d00b8121, site_domain_d262cf1e, site_domain_d2f72222, site_domain_d733bbc3, site_domain_d7e2f29b, site_domain_db11867b, site_domain_de0f0f82, site_domain_e16ceb4b, site_domain_e2a5dc06, site_domain_f3845767, site_domain_f3ca2e42, site_domain_f415c8a8, site_domain_f6ebf28e, site_domain_f7570339, site_domain_fba7221d, site_domain_fd13bc73, site_domain_other, site_id_0a742914, site_id_0c2fe9d6, site_id_0eb72673, site_id_12fb4121, site_id_16c73019, site_id_178a7b89, site_id_17caea14, site_id_17d1b03f, site_id_1a5c1d83, site_id_1b171d6d, site_id_1fbe01fe, site_id_222acd54, site_id_2328ee8e, site_id_235ba823, site_id_26fa1946, site_id_29229f8e, site_id_2a68aa20, site_id_2b1ddb24, site_id_2fdff0f2, site_id_3281baa7, site_id_38217daf, site_id_3dc2d6de, site_id_43d6df75, site_id_4bf5bbe2, site_id_4e7614cf, site_id_5114c672, site_id_517b8671, site_id_543a539e, site_id_57ef2c87, site_id_57fe1b20, site_id_5b08c53b, site_id_5b4d2eda, site_id_5b787406, site_id_5bcf81a2, site_id_5ee41ff2, site_id_61a8c644, site_id_6256f5b4, site_id_6399eda6, site_id_6c5b482c, site_id_6ec06dbd, site_id_6fcff501, site_id_7294ea0f, site_id_75f43c5a, site_id_763a42b5, site_id_7697ed3e, site_id_78d60190, site_id_791b5571, site_id_7c6576be, site_id_7dd19f44, site_id_801dfefb, site_id_83a0ad1a, site_id_84c7ba46, site_id_856e6d3f, site_id_85f751fd, site_id_88154ade, site_id_887a4754, site_id_89a490f5, site_id_92c7cbe7, site_id_93eaba74, site_id_9a977531, site_id_9e8cf15d, site_id_9e8e8d09, site_id_9ee9dd00, site_id_a7853007, site_id_ac696ed4, site_id_b7e9786d, site_id_b8eae5f9, site_id_b99a2c43, site_id_ba9aee1b, site_id_bb4524e7, site_id_c1fcc9a1, site_id_c54454a2, site_id_c63170c5, site_id_cbb01868, site_id_ce3307ec, site_id_cf3a1767, site_id_d1a51189, site_id_d6137915, site_id_d7f3460b, site_id_d8bb8687, site_id_d9750ee7, site_id_dcc019de, site_id_df7971d4, site_id_e023ba3e, site_id_e151e245, site_id_e3c09f3a, site_id_e4d8dd7b, site_id_e5c60a05, site_id_e7a92cc6, site_id_e8f79e60, site_id_e9ca7d40, site_id_ec47f32a, site_id_ee8b8550, site_id_f0ee33c5, site_id_f61eaaae, site_id_f6cba1bd, site_id_f9c69707, site_id_faf9c1c2, site_id_fec6e632, site_id_other, site_category_0569f928, site_category_110ab22d, site_category_28905ebd, site_category_335d28a8, site_category_3e814130, site_category_42a36e14, site_category_50e219e0, site_category_5378d028, site_category_6432c423, site_category_70fb0e29, site_category_72722551, site_category_74073276, site_category_75fa27f6, site_category_76b2941d, site_category_8fd0aea4, site_category_9ccfa2ea, site_category_a72a0145, site_category_a818d37a, site_category_bcf865d9, site_category_c0dd3be3, site_category_c706e647, site_category_da34532e, site_category_dedf689d, site_category_e787de0e, site_category_f028772b, site_category_f66779e6, app_id_03528b27, app_id_03a08c3f, app_id_04f2be5f, app_id_088b6a7b, app_id_08a53ae7, app_id_090d3a47, app_id_0acbeaa3, app_id_13684a79, app_id_1779deee, app_id_197b4f7f, app_id_1d64ced5, app_id_1dc72b4d, app_id_255a58c8, app_id_27550a3c, app_id_2815f500, app_id_28d3bd59, app_id_2d869bee, app_id_2f6efcf2, app_id_33291962, app_id_3692fd30, app_id_396df801, app_id_39947756, app_id_3bfa19cb, app_id_3c4b944d, app_id_3e2bf98d, app_id_3f2a6cbb, app_id_442cfede, app_id_45aff1a2, app_id_495d447f, app_id_4b08f369, app_id_4e02fbd3, app_id_51cedd4e, app_id_53de0284, app_id_54c5d545, app_id_5adb10d9, app_id_5d74d2a4, app_id_5e3f096f, app_id_66f5e02e, app_id_680e6a92, app_id_685d1c4c, app_id_6fc85e22, app_id_6fef5db2, app_id_73206397, app_id_7358e05e, app_id_75076517, app_id_7c7508aa, app_id_7e7baafa, app_id_85938df3, app_id_8b89048f, app_id_8c0dcd5a, app_id_8dbc921a, app_id_92f5800b, app_id_93d786c6, app_id_95b5e741, app_id_98fed791, app_id_9c13b419, app_id_9f41cdad, app_id_a0a45985, app_id_a0fc55e5, app_id_a2b190d4, app_id_a37bf1e4, app_id_a4869716, app_id_a4db51b9, app_id_a5184c22, app_id_a607e6a7, app_id_a97b17d0, app_id_bdf46af7, app_id_be7c618d, app_id_c105f675, app_id_c3f39675, app_id_c51f82bc, app_id_c776ba2a, app_id_c7f29df3, app_id_c8e3e3c1, app_id_ce183bbd, app_id_cf0327f9, app_id_d292c32f, app_id_d2bb6502, app_id_d36838b1, app_id_d44c074c, app_id_d644e4e7, app_id_d8784af5, app_id_da90aa44, app_id_de97da65, app_id_dfdd226c, app_id_e2a1ca37, app_id_e2fcccd2, app_id_e5f1bafe, app_id_e69a444c, app_id_e96773f0, app_id_e9739828, app_id_ecad2386, app_id_f0d41ff1, app_id_f53417e1, app_id_f757bb8f, app_id_f888bf4c, app_id_fb7c70a3, app_id_febd1138, app_id_ffc6ffd0, app_id_other, app_category_07d7df22, app_category_09481d60, app_category_0bfbc358, app_category_0d82db25, app_category_0f2161f8, app_category_0f9a328c, app_category_18b1e0be, app_category_2281a340, app_category_2fc4f2aa, app_category_4681bb9d, app_category_4b7ade46, app_category_4ce2e9fc, app_category_52de74cf, app_category_5326cf99, app_category_6fea3693, app_category_7113d72a, app_category_71af18ce, app_category_75d80bbe, app_category_79f0b860, app_category_86c1a5a3, app_category_879c24eb, app_category_8ded1f7a, app_category_8df2e842, app_category_a3c42688, app_category_a7fd01ec, app_category_a86a3e89, app_category_bd41f328, app_category_bf8ac856, app_category_cba0e20d, app_category_cef3e649, app_category_d1327cf5, app_category_dc97ec06, app_category_ef03ae90, app_category_f395a87f, app_category_f95efa07, app_category_fc6fa53d, device_type_0, device_type_1, device_type_2, device_type_4, device_type_5, device_conn_type_0, device_conn_type_2, device_conn_type_3, device_conn_type_5, C14_15699, C14_15701, C14_15702, C14_15703, C14_15704, C14_15705, C14_15706, C14_15707, C14_15708, C14_16208, C14_16615, C14_16688, C14_16920, C14_17014, C14_17016, C14_17017, C14_17037, C14_17239, C14_17262, C14_17264, C14_17614, C14_17653, C14_17654, C14_17747, C14_17753, C14_17875, C14_17877, C14_17893, C14_17894, C14_19015, C14_19016, C14_19251, C14_19665, C14_19743, C14_19771, C14_19772, C14_19950, C14_20093, C14_20108, C14_20251, C14_20277, C14_20312, C14_20345, C14_20346, C14_20352, C14_20362, C14_20366, C14_20508, C14_20632, C14_20633, C14_20634, C14_21153, C14_21189, C14_21191, C14_21611, C14_21647, C14_21665, C14_21767, C14_21768, C14_21769, C14_21770, C14_21789, C14_21790, C14_21882, C14_21893, C14_22104, C14_22254, C14_22257, C14_22261, C14_22267, C14_22268, C14_22288, C14_22676, C14_22680, C14_22681, C14_22682, C14_22683, C14_22813, C14_23137, C14_23143, C14_23144, C14_23160, C14_23161, C14_23221, C14_23222, C14_23224, C14_23438, C14_23441, C14_23454, C14_23626, C14_23642, C14_23722, C14_23723, C14_23804, C14_23866, C14_4687, C14_6563, C14_8330, C14_9478, C14_other, C15_120, C15_216, C15_300, C15_320, C15_480, C15_728, C15_768, C15_1024, C16_20, C16_36, C16_50, C16_90, C16_250, C16_320, C16_480, C16_768, C16_1024",
     "output_type": "error",
     "traceback": [
      "\u001b[1;31m---------------------------------------------------------------------------\u001b[0m",
      "\u001b[1;31mValueError\u001b[0m                                Traceback (most recent call last)",
      "\u001b[1;32m<ipython-input-16-dccfe8be6049>\u001b[0m in \u001b[0;36m<module>\u001b[1;34m()\u001b[0m\n\u001b[0;32m     49\u001b[0m \u001b[0mtrain_data\u001b[0m \u001b[1;33m=\u001b[0m \u001b[0mlgb\u001b[0m\u001b[1;33m.\u001b[0m\u001b[0mDataset\u001b[0m\u001b[1;33m(\u001b[0m\u001b[0mX_train\u001b[0m\u001b[1;33m,\u001b[0m \u001b[0mlabel\u001b[0m\u001b[1;33m=\u001b[0m\u001b[0my_train\u001b[0m\u001b[1;33m)\u001b[0m\u001b[1;33m\u001b[0m\u001b[0m\n\u001b[0;32m     50\u001b[0m \u001b[0mvalid_data\u001b[0m \u001b[1;33m=\u001b[0m \u001b[0mlgb\u001b[0m\u001b[1;33m.\u001b[0m\u001b[0mDataset\u001b[0m\u001b[1;33m(\u001b[0m\u001b[0mX_valid\u001b[0m\u001b[1;33m,\u001b[0m \u001b[0mlabel\u001b[0m\u001b[1;33m=\u001b[0m\u001b[0my_valid\u001b[0m\u001b[1;33m)\u001b[0m\u001b[1;33m\u001b[0m\u001b[0m\n\u001b[1;32m---> 51\u001b[1;33m \u001b[0mlgb_model\u001b[0m \u001b[1;33m=\u001b[0m \u001b[0mlgb\u001b[0m\u001b[1;33m.\u001b[0m\u001b[0mtrain\u001b[0m\u001b[1;33m(\u001b[0m\u001b[0mlgb_params\u001b[0m\u001b[1;33m,\u001b[0m\u001b[0mtrain_data\u001b[0m\u001b[1;33m,\u001b[0m\u001b[0mvalid_sets\u001b[0m\u001b[1;33m=\u001b[0m\u001b[1;33m[\u001b[0m\u001b[0mtrain_data\u001b[0m\u001b[1;33m,\u001b[0m\u001b[0mvalid_data\u001b[0m\u001b[1;33m]\u001b[0m\u001b[1;33m,\u001b[0m\u001b[0mnum_boost_round\u001b[0m \u001b[1;33m=\u001b[0m \u001b[1;36m10000\u001b[0m \u001b[1;33m,\u001b[0m\u001b[0mearly_stopping_rounds\u001b[0m\u001b[1;33m=\u001b[0m\u001b[1;36m200\u001b[0m\u001b[1;33m,\u001b[0m\u001b[0mverbose_eval\u001b[0m\u001b[1;33m=\u001b[0m\u001b[1;36m25\u001b[0m\u001b[1;33m,\u001b[0m \u001b[0mcategorical_feature\u001b[0m\u001b[1;33m=\u001b[0m\u001b[1;34m\"click\"\u001b[0m\u001b[1;33m)\u001b[0m\u001b[1;33m\u001b[0m\u001b[0m\n\u001b[0m\u001b[0;32m     52\u001b[0m \u001b[1;33m\u001b[0m\u001b[0m\n\u001b[0;32m     53\u001b[0m \u001b[0mprint\u001b[0m\u001b[1;33m(\u001b[0m\u001b[1;34m\"ok\"\u001b[0m\u001b[1;33m)\u001b[0m\u001b[1;33m\u001b[0m\u001b[0m\n",
      "\u001b[1;32mD:\\Program Files (x86)\\Microsoft Visual Studio\\Shared\\Anaconda3_64\\lib\\site-packages\\lightgbm\\engine.py\u001b[0m in \u001b[0;36mtrain\u001b[1;34m(params, train_set, num_boost_round, valid_sets, valid_names, fobj, feval, init_model, feature_name, categorical_feature, early_stopping_rounds, evals_result, verbose_eval, learning_rates, keep_training_booster, callbacks)\u001b[0m\n\u001b[0;32m    226\u001b[0m     \u001b[1;31m# construct booster\u001b[0m\u001b[1;33m\u001b[0m\u001b[1;33m\u001b[0m\u001b[0m\n\u001b[0;32m    227\u001b[0m     \u001b[1;32mtry\u001b[0m\u001b[1;33m:\u001b[0m\u001b[1;33m\u001b[0m\u001b[0m\n\u001b[1;32m--> 228\u001b[1;33m         \u001b[0mbooster\u001b[0m \u001b[1;33m=\u001b[0m \u001b[0mBooster\u001b[0m\u001b[1;33m(\u001b[0m\u001b[0mparams\u001b[0m\u001b[1;33m=\u001b[0m\u001b[0mparams\u001b[0m\u001b[1;33m,\u001b[0m \u001b[0mtrain_set\u001b[0m\u001b[1;33m=\u001b[0m\u001b[0mtrain_set\u001b[0m\u001b[1;33m)\u001b[0m\u001b[1;33m\u001b[0m\u001b[0m\n\u001b[0m\u001b[0;32m    229\u001b[0m         \u001b[1;32mif\u001b[0m \u001b[0mis_valid_contain_train\u001b[0m\u001b[1;33m:\u001b[0m\u001b[1;33m\u001b[0m\u001b[0m\n\u001b[0;32m    230\u001b[0m             \u001b[0mbooster\u001b[0m\u001b[1;33m.\u001b[0m\u001b[0mset_train_data_name\u001b[0m\u001b[1;33m(\u001b[0m\u001b[0mtrain_data_name\u001b[0m\u001b[1;33m)\u001b[0m\u001b[1;33m\u001b[0m\u001b[0m\n",
      "\u001b[1;32mD:\\Program Files (x86)\\Microsoft Visual Studio\\Shared\\Anaconda3_64\\lib\\site-packages\\lightgbm\\basic.py\u001b[0m in \u001b[0;36m__init__\u001b[1;34m(self, params, train_set, model_file, model_str, silent)\u001b[0m\n\u001b[0;32m   1712\u001b[0m             \u001b[0mself\u001b[0m\u001b[1;33m.\u001b[0m\u001b[0mhandle\u001b[0m \u001b[1;33m=\u001b[0m \u001b[0mctypes\u001b[0m\u001b[1;33m.\u001b[0m\u001b[0mc_void_p\u001b[0m\u001b[1;33m(\u001b[0m\u001b[1;33m)\u001b[0m\u001b[1;33m\u001b[0m\u001b[0m\n\u001b[0;32m   1713\u001b[0m             _safe_call(_LIB.LGBM_BoosterCreate(\n\u001b[1;32m-> 1714\u001b[1;33m                 \u001b[0mtrain_set\u001b[0m\u001b[1;33m.\u001b[0m\u001b[0mconstruct\u001b[0m\u001b[1;33m(\u001b[0m\u001b[1;33m)\u001b[0m\u001b[1;33m.\u001b[0m\u001b[0mhandle\u001b[0m\u001b[1;33m,\u001b[0m\u001b[1;33m\u001b[0m\u001b[0m\n\u001b[0m\u001b[0;32m   1715\u001b[0m                 \u001b[0mc_str\u001b[0m\u001b[1;33m(\u001b[0m\u001b[0mparams_str\u001b[0m\u001b[1;33m)\u001b[0m\u001b[1;33m,\u001b[0m\u001b[1;33m\u001b[0m\u001b[0m\n\u001b[0;32m   1716\u001b[0m                 ctypes.byref(self.handle)))\n",
      "\u001b[1;32mD:\\Program Files (x86)\\Microsoft Visual Studio\\Shared\\Anaconda3_64\\lib\\site-packages\\lightgbm\\basic.py\u001b[0m in \u001b[0;36mconstruct\u001b[1;34m(self)\u001b[0m\n\u001b[0;32m   1083\u001b[0m                                 \u001b[0minit_score\u001b[0m\u001b[1;33m=\u001b[0m\u001b[0mself\u001b[0m\u001b[1;33m.\u001b[0m\u001b[0minit_score\u001b[0m\u001b[1;33m,\u001b[0m \u001b[0mpredictor\u001b[0m\u001b[1;33m=\u001b[0m\u001b[0mself\u001b[0m\u001b[1;33m.\u001b[0m\u001b[0m_predictor\u001b[0m\u001b[1;33m,\u001b[0m\u001b[1;33m\u001b[0m\u001b[0m\n\u001b[0;32m   1084\u001b[0m                                 \u001b[0msilent\u001b[0m\u001b[1;33m=\u001b[0m\u001b[0mself\u001b[0m\u001b[1;33m.\u001b[0m\u001b[0msilent\u001b[0m\u001b[1;33m,\u001b[0m \u001b[0mfeature_name\u001b[0m\u001b[1;33m=\u001b[0m\u001b[0mself\u001b[0m\u001b[1;33m.\u001b[0m\u001b[0mfeature_name\u001b[0m\u001b[1;33m,\u001b[0m\u001b[1;33m\u001b[0m\u001b[0m\n\u001b[1;32m-> 1085\u001b[1;33m                                 categorical_feature=self.categorical_feature, params=self.params)\n\u001b[0m\u001b[0;32m   1086\u001b[0m             \u001b[1;32mif\u001b[0m \u001b[0mself\u001b[0m\u001b[1;33m.\u001b[0m\u001b[0mfree_raw_data\u001b[0m\u001b[1;33m:\u001b[0m\u001b[1;33m\u001b[0m\u001b[0m\n\u001b[0;32m   1087\u001b[0m                 \u001b[0mself\u001b[0m\u001b[1;33m.\u001b[0m\u001b[0mdata\u001b[0m \u001b[1;33m=\u001b[0m \u001b[1;32mNone\u001b[0m\u001b[1;33m\u001b[0m\u001b[0m\n",
      "\u001b[1;32mD:\\Program Files (x86)\\Microsoft Visual Studio\\Shared\\Anaconda3_64\\lib\\site-packages\\lightgbm\\basic.py\u001b[0m in \u001b[0;36m_lazy_init\u001b[1;34m(self, data, label, reference, weight, group, init_score, predictor, silent, feature_name, categorical_feature, params)\u001b[0m\n\u001b[0;32m    828\u001b[0m                                                                                              \u001b[0mfeature_name\u001b[0m\u001b[1;33m,\u001b[0m\u001b[1;33m\u001b[0m\u001b[0m\n\u001b[0;32m    829\u001b[0m                                                                                              \u001b[0mcategorical_feature\u001b[0m\u001b[1;33m,\u001b[0m\u001b[1;33m\u001b[0m\u001b[0m\n\u001b[1;32m--> 830\u001b[1;33m                                                                                              self.pandas_categorical)\n\u001b[0m\u001b[0;32m    831\u001b[0m         \u001b[0mlabel\u001b[0m \u001b[1;33m=\u001b[0m \u001b[0m_label_from_pandas\u001b[0m\u001b[1;33m(\u001b[0m\u001b[0mlabel\u001b[0m\u001b[1;33m)\u001b[0m\u001b[1;33m\u001b[0m\u001b[0m\n\u001b[0;32m    832\u001b[0m \u001b[1;33m\u001b[0m\u001b[0m\n",
      "\u001b[1;32mD:\\Program Files (x86)\\Microsoft Visual Studio\\Shared\\Anaconda3_64\\lib\\site-packages\\lightgbm\\basic.py\u001b[0m in \u001b[0;36m_data_from_pandas\u001b[1;34m(data, feature_name, categorical_feature, pandas_categorical)\u001b[0m\n\u001b[0;32m    342\u001b[0m             raise ValueError(\"DataFrame.dtypes for data must be int, float or bool.\\n\"\n\u001b[0;32m    343\u001b[0m                              \u001b[1;34m\"Did not expect the data types in the following fields: \"\u001b[0m\u001b[1;33m\u001b[0m\u001b[0m\n\u001b[1;32m--> 344\u001b[1;33m                              + ', '.join(data.columns[bad_indices]))\n\u001b[0m\u001b[0;32m    345\u001b[0m         \u001b[0mdata\u001b[0m \u001b[1;33m=\u001b[0m \u001b[0mdata\u001b[0m\u001b[1;33m.\u001b[0m\u001b[0mvalues\u001b[0m\u001b[1;33m\u001b[0m\u001b[0m\n\u001b[0;32m    346\u001b[0m         \u001b[1;32mif\u001b[0m \u001b[0mdata\u001b[0m\u001b[1;33m.\u001b[0m\u001b[0mdtype\u001b[0m \u001b[1;33m!=\u001b[0m \u001b[0mnp\u001b[0m\u001b[1;33m.\u001b[0m\u001b[0mfloat32\u001b[0m \u001b[1;32mand\u001b[0m \u001b[0mdata\u001b[0m\u001b[1;33m.\u001b[0m\u001b[0mdtype\u001b[0m \u001b[1;33m!=\u001b[0m \u001b[0mnp\u001b[0m\u001b[1;33m.\u001b[0m\u001b[0mfloat64\u001b[0m\u001b[1;33m:\u001b[0m\u001b[1;33m\u001b[0m\u001b[0m\n",
      "\u001b[1;31mValueError\u001b[0m: DataFrame.dtypes for data must be int, float or bool.\nDid not expect the data types in the following fields: C1_1001, C1_1002, C1_1005, C1_1007, C1_1008, C1_1010, C1_1012, banner_pos_0, banner_pos_1, banner_pos_2, banner_pos_3, banner_pos_4, banner_pos_5, banner_pos_7, site_domain_08facbad, site_domain_0a4015b2, site_domain_0d3cb7be, site_domain_0dde25ec, site_domain_16a36ef3, site_domain_17d996e6, site_domain_1b32ed33, site_domain_1e0acfb4, site_domain_1e334bd3, site_domain_2296b5b3, site_domain_250469f8, site_domain_272c5d9d, site_domain_27e3c518, site_domain_28f93029, site_domain_2c5a2165, site_domain_2d235ae0, site_domain_30518255, site_domain_3f2f3819, site_domain_422b8953, site_domain_449497bc, site_domain_4c26e9ba, site_domain_510bd839, site_domain_5449fde7, site_domain_58a89a43, site_domain_5b626596, site_domain_5c9ae867, site_domain_5c9c05b7, site_domain_5dddf09e, site_domain_61eac15d, site_domain_64778742, site_domain_6b560cc1, site_domain_6b59f079, site_domain_6bdbd889, site_domain_6dbd48f0, site_domain_6e882918, site_domain_7256c623, site_domain_759d1c56, site_domain_75f9ddc3, site_domain_7687a86e, site_domain_77c8e77d, site_domain_7804dea6, site_domain_7d05db75, site_domain_7e091613, site_domain_7e1e7bdf, site_domain_7e3be6ba, site_domain_8025317b, site_domain_863fa89d, site_domain_8a429b45, site_domain_91cdcccd, site_domain_945bfb4b, site_domain_948ff336, site_domain_964a3bd1, site_domain_968765cd, site_domain_9690165f, site_domain_98572c79, site_domain_98acf46c, site_domain_98e6755b, site_domain_9b421927, site_domain_9b851bd8, site_domain_9cf7de2f, site_domain_9d54950b, site_domain_9eaf88fa, site_domain_9f448720, site_domain_a10eb148, site_domain_a17bde68, site_domain_a434fa42, site_domain_a9bba545, site_domain_ac5abf20, site_domain_ace5b8fd, site_domain_b12b9f85, site_domain_b4598159, site_domain_b9c4ab81, site_domain_bb1ef334, site_domain_bd6d812f, site_domain_bea33b9a, site_domain_c1aa3c04, site_domain_c4342784, site_domain_c4e18dd6, site_domain_c7ca3108, site_domain_c7dcd9d1, site_domain_c8223ee3, site_domain_cc962a1f, site_domain_ce307e01, site_domain_d00b8121, site_domain_d262cf1e, site_domain_d2f72222, site_domain_d733bbc3, site_domain_d7e2f29b, site_domain_db11867b, site_domain_de0f0f82, site_domain_e16ceb4b, site_domain_e2a5dc06, site_domain_f3845767, site_domain_f3ca2e42, site_domain_f415c8a8, site_domain_f6ebf28e, site_domain_f7570339, site_domain_fba7221d, site_domain_fd13bc73, site_domain_other, site_id_0a742914, site_id_0c2fe9d6, site_id_0eb72673, site_id_12fb4121, site_id_16c73019, site_id_178a7b89, site_id_17caea14, site_id_17d1b03f, site_id_1a5c1d83, site_id_1b171d6d, site_id_1fbe01fe, site_id_222acd54, site_id_2328ee8e, site_id_235ba823, site_id_26fa1946, site_id_29229f8e, site_id_2a68aa20, site_id_2b1ddb24, site_id_2fdff0f2, site_id_3281baa7, site_id_38217daf, site_id_3dc2d6de, site_id_43d6df75, site_id_4bf5bbe2, site_id_4e7614cf, site_id_5114c672, site_id_517b8671, site_id_543a539e, site_id_57ef2c87, site_id_57fe1b20, site_id_5b08c53b, site_id_5b4d2eda, site_id_5b787406, site_id_5bcf81a2, site_id_5ee41ff2, site_id_61a8c644, site_id_6256f5b4, site_id_6399eda6, site_id_6c5b482c, site_id_6ec06dbd, site_id_6fcff501, site_id_7294ea0f, site_id_75f43c5a, site_id_763a42b5, site_id_7697ed3e, site_id_78d60190, site_id_791b5571, site_id_7c6576be, site_id_7dd19f44, site_id_801dfefb, site_id_83a0ad1a, site_id_84c7ba46, site_id_856e6d3f, site_id_85f751fd, site_id_88154ade, site_id_887a4754, site_id_89a490f5, site_id_92c7cbe7, site_id_93eaba74, site_id_9a977531, site_id_9e8cf15d, site_id_9e8e8d09, site_id_9ee9dd00, site_id_a7853007, site_id_ac696ed4, site_id_b7e9786d, site_id_b8eae5f9, site_id_b99a2c43, site_id_ba9aee1b, site_id_bb4524e7, site_id_c1fcc9a1, site_id_c54454a2, site_id_c63170c5, site_id_cbb01868, site_id_ce3307ec, site_id_cf3a1767, site_id_d1a51189, site_id_d6137915, site_id_d7f3460b, site_id_d8bb8687, site_id_d9750ee7, site_id_dcc019de, site_id_df7971d4, site_id_e023ba3e, site_id_e151e245, site_id_e3c09f3a, site_id_e4d8dd7b, site_id_e5c60a05, site_id_e7a92cc6, site_id_e8f79e60, site_id_e9ca7d40, site_id_ec47f32a, site_id_ee8b8550, site_id_f0ee33c5, site_id_f61eaaae, site_id_f6cba1bd, site_id_f9c69707, site_id_faf9c1c2, site_id_fec6e632, site_id_other, site_category_0569f928, site_category_110ab22d, site_category_28905ebd, site_category_335d28a8, site_category_3e814130, site_category_42a36e14, site_category_50e219e0, site_category_5378d028, site_category_6432c423, site_category_70fb0e29, site_category_72722551, site_category_74073276, site_category_75fa27f6, site_category_76b2941d, site_category_8fd0aea4, site_category_9ccfa2ea, site_category_a72a0145, site_category_a818d37a, site_category_bcf865d9, site_category_c0dd3be3, site_category_c706e647, site_category_da34532e, site_category_dedf689d, site_category_e787de0e, site_category_f028772b, site_category_f66779e6, app_id_03528b27, app_id_03a08c3f, app_id_04f2be5f, app_id_088b6a7b, app_id_08a53ae7, app_id_090d3a47, app_id_0acbeaa3, app_id_13684a79, app_id_1779deee, app_id_197b4f7f, app_id_1d64ced5, app_id_1dc72b4d, app_id_255a58c8, app_id_27550a3c, app_id_2815f500, app_id_28d3bd59, app_id_2d869bee, app_id_2f6efcf2, app_id_33291962, app_id_3692fd30, app_id_396df801, app_id_39947756, app_id_3bfa19cb, app_id_3c4b944d, app_id_3e2bf98d, app_id_3f2a6cbb, app_id_442cfede, app_id_45aff1a2, app_id_495d447f, app_id_4b08f369, app_id_4e02fbd3, app_id_51cedd4e, app_id_53de0284, app_id_54c5d545, app_id_5adb10d9, app_id_5d74d2a4, app_id_5e3f096f, app_id_66f5e02e, app_id_680e6a92, app_id_685d1c4c, app_id_6fc85e22, app_id_6fef5db2, app_id_73206397, app_id_7358e05e, app_id_75076517, app_id_7c7508aa, app_id_7e7baafa, app_id_85938df3, app_id_8b89048f, app_id_8c0dcd5a, app_id_8dbc921a, app_id_92f5800b, app_id_93d786c6, app_id_95b5e741, app_id_98fed791, app_id_9c13b419, app_id_9f41cdad, app_id_a0a45985, app_id_a0fc55e5, app_id_a2b190d4, app_id_a37bf1e4, app_id_a4869716, app_id_a4db51b9, app_id_a5184c22, app_id_a607e6a7, app_id_a97b17d0, app_id_bdf46af7, app_id_be7c618d, app_id_c105f675, app_id_c3f39675, app_id_c51f82bc, app_id_c776ba2a, app_id_c7f29df3, app_id_c8e3e3c1, app_id_ce183bbd, app_id_cf0327f9, app_id_d292c32f, app_id_d2bb6502, app_id_d36838b1, app_id_d44c074c, app_id_d644e4e7, app_id_d8784af5, app_id_da90aa44, app_id_de97da65, app_id_dfdd226c, app_id_e2a1ca37, app_id_e2fcccd2, app_id_e5f1bafe, app_id_e69a444c, app_id_e96773f0, app_id_e9739828, app_id_ecad2386, app_id_f0d41ff1, app_id_f53417e1, app_id_f757bb8f, app_id_f888bf4c, app_id_fb7c70a3, app_id_febd1138, app_id_ffc6ffd0, app_id_other, app_category_07d7df22, app_category_09481d60, app_category_0bfbc358, app_category_0d82db25, app_category_0f2161f8, app_category_0f9a328c, app_category_18b1e0be, app_category_2281a340, app_category_2fc4f2aa, app_category_4681bb9d, app_category_4b7ade46, app_category_4ce2e9fc, app_category_52de74cf, app_category_5326cf99, app_category_6fea3693, app_category_7113d72a, app_category_71af18ce, app_category_75d80bbe, app_category_79f0b860, app_category_86c1a5a3, app_category_879c24eb, app_category_8ded1f7a, app_category_8df2e842, app_category_a3c42688, app_category_a7fd01ec, app_category_a86a3e89, app_category_bd41f328, app_category_bf8ac856, app_category_cba0e20d, app_category_cef3e649, app_category_d1327cf5, app_category_dc97ec06, app_category_ef03ae90, app_category_f395a87f, app_category_f95efa07, app_category_fc6fa53d, device_type_0, device_type_1, device_type_2, device_type_4, device_type_5, device_conn_type_0, device_conn_type_2, device_conn_type_3, device_conn_type_5, C14_15699, C14_15701, C14_15702, C14_15703, C14_15704, C14_15705, C14_15706, C14_15707, C14_15708, C14_16208, C14_16615, C14_16688, C14_16920, C14_17014, C14_17016, C14_17017, C14_17037, C14_17239, C14_17262, C14_17264, C14_17614, C14_17653, C14_17654, C14_17747, C14_17753, C14_17875, C14_17877, C14_17893, C14_17894, C14_19015, C14_19016, C14_19251, C14_19665, C14_19743, C14_19771, C14_19772, C14_19950, C14_20093, C14_20108, C14_20251, C14_20277, C14_20312, C14_20345, C14_20346, C14_20352, C14_20362, C14_20366, C14_20508, C14_20632, C14_20633, C14_20634, C14_21153, C14_21189, C14_21191, C14_21611, C14_21647, C14_21665, C14_21767, C14_21768, C14_21769, C14_21770, C14_21789, C14_21790, C14_21882, C14_21893, C14_22104, C14_22254, C14_22257, C14_22261, C14_22267, C14_22268, C14_22288, C14_22676, C14_22680, C14_22681, C14_22682, C14_22683, C14_22813, C14_23137, C14_23143, C14_23144, C14_23160, C14_23161, C14_23221, C14_23222, C14_23224, C14_23438, C14_23441, C14_23454, C14_23626, C14_23642, C14_23722, C14_23723, C14_23804, C14_23866, C14_4687, C14_6563, C14_8330, C14_9478, C14_other, C15_120, C15_216, C15_300, C15_320, C15_480, C15_728, C15_768, C15_1024, C16_20, C16_36, C16_50, C16_90, C16_250, C16_320, C16_480, C16_768, C16_1024"
     ]
    }
   ],
   "source": [
    "##==================== 设置文件路径File-Path (fp) ====================##\n",
    "# file_path = '/Users/wangdonghui/Desktop/ZGZ/RS/dataset/avazu-ctr-prediction/' # mac路径\n",
    "file_path = 'C:/Users/Administrator/Desktop/W/DataSet/avazu/' # win路径\n",
    "\n",
    "# 全量样本\n",
    "fp_train_f = file_path + \"train_f.csv\"\n",
    "# 小样本\n",
    "fp_sub_train_f = file_path + 'sub_train_f.csv'\n",
    "fp_test_f  = file_path + \"test_f.csv\"\n",
    "\n",
    "# 标签编码保存\n",
    "fp_lb_enc = file_path + 'lb_enc'\n",
    "# one-hot编码保存\n",
    "fp_oh_enc = file_path + \"oh_enc\"\n",
    "# lightgbm模型保存\n",
    "fp_lgb_model = file_path + \"lgb/lgb_model\"\n",
    "# submission文件保存\n",
    "fp_sub = file_path + \"lgb/lgb_submission.csv\"\n",
    "\n",
    "##==================== 数据加载 数据处理 ====================##\n",
    "# lb_enc = pickle.load(open(fp_lb_enc, 'rb'))\n",
    "\n",
    "# 一个chunk块为5万行\n",
    "chunksize = 50000\n",
    "# df_train_f = pd.read_csv(fp_train_f, dtype={'id':str}, index_col=None, chunksize=chunksize, iterator=True) # 读取全量样本\n",
    "df_train_f = pd.read_csv(fp_sub_train_f, dtype={'id':str}, index_col=None, chunksize=chunksize, iterator=True) # 读取小样本\n",
    "\n",
    "# ？？？？？ValueError: DataFrame.dtypes for data must be int, float or bool.\n",
    "# df_train_f.info()\n",
    "\n",
    "\n",
    "##==================== lightgbm模型 训练 ====================##\n",
    "# 使用LogLoss作为LR的损失函数\n",
    "lgb_params = {\n",
    "    'boosting_type':'gbdt',\n",
    "    'objective' : 'binary_logloss', #任务类型\n",
    "    'metric' : 'auc', #评估指标\n",
    "    'learning_rate' : 0.01, #学习率\n",
    "    'max_depth' : 15, #树的最大深度\n",
    "    'feature_fraction':0.8, #设置在每次迭代中使用特征的比例\n",
    "    'bagging_fraction': 0.9, #样本采样比例\n",
    "    'bagging_freq': 8, #bagging的次数\n",
    "    'lambda_l1': 0.6, #L1正则\n",
    "    'lambda_l2': 0, #L2正则\n",
    "}\n",
    "\n",
    "print(\"training...\")\n",
    "\n",
    "X_train, X_valid, y_train, y_valid = train_test_split(df_train.drop(['id', 'click'],axis=1), df_train['click'], test_size=0.2, random_state=42)\n",
    "train_data = lgb.Dataset(X_train, label=y_train)\n",
    "valid_data = lgb.Dataset(X_valid, label=y_valid)\n",
    "lgb_model = lgb.train(lgb_params,train_data,valid_sets=[train_data,valid_data],num_boost_round = 10000 ,early_stopping_rounds=200,verbose_eval=25, categorical_feature=\"click\")\n",
    "\n",
    "\n",
    "# # 使用k和i调整训练规模，训练样本 = 所有样本 / k\n",
    "# k = 20 #100  \n",
    "# i = 1\n",
    "# for chunk in df_train_f:\n",
    "#     # 根据K drop掉样本\n",
    "#     if i < k: \n",
    "#         i += 1\n",
    "#         continue\n",
    "#     print('training...')\n",
    "#     i = 1\n",
    "#     df_train = oh_enc.transform(chunk)\n",
    "#     # 训练\n",
    "#     feature_train = df_train.columns.drop(['id', 'click'])\n",
    "#     train_X = df_train[feature_train]\n",
    "#     train_y = df_train['click'].astype('int')\n",
    "#     lgb_model.partial_fit(train_X, train_y, classes = [0,1])  # fitting\n",
    "    \n",
    "#     # 训练结果logloss分数\n",
    "#     y_pred = lgb_model.predict_proba(train_X)[:, 1]\n",
    "#     score = log_loss(train_y, y_pred)\n",
    "#     scores.append(score)\n",
    "\n",
    "## 存储训练好的lightgbm模型\n",
    "pickle.dump(lgb_model, open(fp_lgb_model, 'wb'))\n",
    "print('lightGBM model saved')\n",
    "\n",
    "\n",
    "import gc\n",
    "del lgb_model\n",
    "del df_train_f\n",
    "\n",
    "gc.collect()\n",
    "\n",
    "##==================== 使用训练好的LR模型进行预测，提交submission ====================##\n",
    "# predict=lgb_model.predict(test)\n",
    "# test['Attrition']=predict\n",
    "# # 转化为二分类输出\n",
    "# test['Attrition']=test['Attrition'].map(lambda x:1 if x>=0.5 else 0)\n",
    "# test[['Attrition']].to_csv('submit_lgb.csv')\n",
    "\n",
    "# df_test_f = pd.read_csv(fp_test_f, dtype={'id':str}, index_col=None, chunksize=chunksize, iterator=True)        \n",
    "# lr_model = pickle.load(open(fp_lr_model, 'rb'))\n",
    "\n",
    "# # 按照chunk对测试集进行预测\n",
    "# header = True\n",
    "# for chunk in df_test_f:\n",
    "#     print('predicting...')\n",
    "#     df_test = oh_enc.transform(chunk)\n",
    "#     # 去掉ID字段\n",
    "#     feature_test = df_test.columns.drop(['id'])\n",
    "#     test_X = df_test[feature_test]\n",
    "#     # 计算class=1的概率\n",
    "#     y_pred = lr_model.predict_proba(test_X)[:, 1]  \n",
    "#     # 得到submittion\n",
    "#     chunk['click'] = y_pred\n",
    "#     with open(fp_sub, 'a') as f: \n",
    "#         # 只有第一次header=True，其余header=False\n",
    "#         chunk.to_csv(f, columns=['id', 'click'], header=header, index=False) \n",
    "#     header = False\n",
    "\n",
    "print('submittion completed')"
   ]
  },
  {
   "cell_type": "markdown",
   "metadata": {},
   "source": [
    "## 问题"
   ]
  },
  {
   "cell_type": "markdown",
   "metadata": {},
   "source": [
    "* 矩阵分解的作用是补全矩阵缺失的评分，但是当预测集中出现训练集中没有的新用户或新电影，矩阵分解(SVD)好像也能得到预测评分，这是为什么呢？"
   ]
  }
 ],
 "metadata": {
  "kernelspec": {
   "display_name": "Python 3",
   "language": "python",
   "name": "python3"
  },
  "language_info": {
   "codemirror_mode": {
    "name": "ipython",
    "version": 3
   },
   "file_extension": ".py",
   "mimetype": "text/x-python",
   "name": "python",
   "nbconvert_exporter": "python",
   "pygments_lexer": "ipython3",
   "version": "3.6.5"
  },
  "toc": {
   "base_numbering": 1,
   "nav_menu": {},
   "number_sections": true,
   "sideBar": true,
   "skip_h1_title": false,
   "title_cell": "Table of Contents",
   "title_sidebar": "Contents",
   "toc_cell": false,
   "toc_position": {
    "height": "calc(100% - 180px)",
    "left": "10px",
    "top": "150px",
    "width": "165px"
   },
   "toc_section_display": true,
   "toc_window_display": true
  }
 },
 "nbformat": 4,
 "nbformat_minor": 2
}
