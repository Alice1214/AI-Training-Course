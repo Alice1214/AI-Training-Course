{
 "cells": [
  {
   "cell_type": "markdown",
   "metadata": {},
   "source": [
    "# Avazu CTR广告点击率预测（lightGBM）"
   ]
  },
  {
   "cell_type": "markdown",
   "metadata": {},
   "source": [
    "* Content：对Netflix数据集进行评分预测\n",
    "* Author:  HuiHui\n",
    "* Date:    2020-06-01\n",
    "* Reference:https://www.kaggle.com/c/avazu-ctr-prediction"
   ]
  },
  {
   "cell_type": "markdown",
   "metadata": {},
   "source": [
    "## 提交说明"
   ]
  },
  {
   "cell_type": "markdown",
   "metadata": {},
   "source": [
    "* 说明采用的模型，LogLoss值\n",
    "* 提交结果，评分截图"
   ]
  },
  {
   "cell_type": "markdown",
   "metadata": {},
   "source": [
    "## Avazu数据集"
   ]
  },
  {
   "cell_type": "markdown",
   "metadata": {},
   "source": [
    "* **训练集：**10天的点击数据，按时间顺序排列。根据不同的策略对非点击和点击进行二次采样。\n",
    "* **测试集：** 1天的广告用于测试模型   \n",
    "* **提交文件：**\n",
    "* **字段：**  \n",
    "&emsp;**click:** 0-不点击，1-点击   \n",
    "&emsp;**C1，C14-C21：**匿名分类变量  \n",
    "&emsp;**hour:** 格式为YYMMDDHH"
   ]
  },
  {
   "cell_type": "markdown",
   "metadata": {},
   "source": [
    "## 导入相关库"
   ]
  },
  {
   "cell_type": "code",
   "execution_count": 1,
   "metadata": {},
   "outputs": [],
   "source": [
    "# !/usr/bin/env python\n",
    "# -*- coding=utf-8 -*-\n",
    "import pandas as pd\n",
    "import numpy as np\n",
    "import matplotlib.pyplot as plt\n",
    "%matplotlib inline\n",
    "import sklearn\n",
    "from sklearn.preprocessing import LabelEncoder\n",
    "from dummyPy import OneHotEncoder\n",
    "import random\n",
    "import pickle  # 存储临时变量"
   ]
  },
  {
   "cell_type": "markdown",
   "metadata": {},
   "source": [
    "## 数据预处理"
   ]
  },
  {
   "cell_type": "markdown",
   "metadata": {},
   "source": [
    "* 特征选择  \n",
    "* 绘制分类数据分布图\n",
    "* 将所有不常用的分类转换成'other'\n",
    "* LabelEncoder、OneHotEncoder\n",
    "* 下采样训练样本"
   ]
  },
  {
   "cell_type": "code",
   "execution_count": 2,
   "metadata": {
    "code_folding": [
     0
    ]
   },
   "outputs": [
    {
     "name": "stdout",
     "output_type": "stream",
     "text": [
      "loading data...\n"
     ]
    },
    {
     "data": {
      "image/png": "[encoded data removed]",
      "text/plain": [
       "<Figure size 432x288 with 12 Axes>"
      ]
     },
     "metadata": {},
     "output_type": "display_data"
    }
   ],
   "source": [
    "## 读文件\n",
    "# file_path = '' # mac路径\n",
    "file_path = 'C:/Users/Administrator/Desktop/W/DataSet/avazu/' # win路径\n",
    "fp_train = file_path + 'train.csv'\n",
    "fp_test  = file_path + 'test.csv'\n",
    "\n",
    "## 下采样写文件\n",
    "fp_sub_train_f = file_path + 'sub_train_f.csv'\n",
    "fp_col_counts = file_path + 'col_counts'\n",
    "\n",
    "## data after selecting features (LR_fun needed)\n",
    "## and setting rare categories' value to 'other' (feature filtering)\n",
    "fp_train_f = file_path + 'train_f.csv'\n",
    "fp_test_f  = file_path + 'test_f.csv'\n",
    "\n",
    "## 存储标签编码和one-hot编码\n",
    "fp_lb_enc = file_path + 'lb_enc'\n",
    "fp_oh_enc = file_path + 'oh_enc'\n",
    "\n",
    "##==================== 数据预处理 ====================##\n",
    "# 特征选择\n",
    "cols = ['C1', \n",
    "        'banner_pos', \n",
    "        'site_domain', \n",
    "        'site_id',\n",
    "        'site_category',\n",
    "        'app_id',\n",
    "        'app_category', \n",
    "        'device_type', \n",
    "        'device_conn_type',\n",
    "        'C14', \n",
    "        'C15',\n",
    "        'C16']\n",
    "\n",
    "cols_train = ['id', 'click']\n",
    "cols_test  = ['id']\n",
    "cols_train.extend(cols)\n",
    "cols_test.extend(cols)\n",
    "\n",
    "## 数据加载\n",
    "print('loading data...')\n",
    "df_train_ini = pd.read_csv(fp_train, nrows = 10)# nrows = 10读取一个大文件中的几行数据\n",
    "df_train_org = pd.read_csv(fp_train, chunksize = 10000000, iterator = True)# 分块读取,iterator = True返回一个可迭代对象TextFileReader,reader.get_chunk(5)返回前五条数据\n",
    "df_test_org  = pd.read_csv(fp_test,  chunksize = 10000000, iterator = True)\n",
    "\n",
    "# print(df_train_ini.head())\n",
    "# print(\"==\"*50)\n",
    "# print(df_train_org.get_chunk(5))\n",
    "# print(\"==\"*50)\n",
    "# print(df_test_org.get_chunk(5))\n",
    "\n",
    "#----- 统计分类变量 数值个数 -----#\n",
    "## 初始化\n",
    "cols_counts = {}  # 统计每个特征的分类数量\n",
    "for col in cols:\n",
    "    cols_counts[col] = df_train_ini[col].value_counts()\n",
    "\n",
    "## 统计训练集\n",
    "for chunk in df_train_org:\n",
    "    for col in cols:\n",
    "        cols_counts[col] = cols_counts[col].append(chunk[col].value_counts())   \n",
    "\n",
    "## 统计测试集\n",
    "for chunk in df_test_org:\n",
    "    for col in cols:\n",
    "        cols_counts[col] = cols_counts[col].append(chunk[col].value_counts())\n",
    "\n",
    "## 统计      ??? 多统计了一次df_train_ini的特征\n",
    "for col in cols:\n",
    "    cols_counts[col] = cols_counts[col].groupby(cols_counts[col].index).sum()\n",
    "    # sort the counts\n",
    "    cols_counts[col] = cols_counts[col].sort_values(ascending=False)   \n",
    "\n",
    "## 存储value_counting\n",
    "pickle.dump(cols_counts, open(fp_col_counts, 'wb'))\n",
    "\n",
    "## 绘制分布\n",
    "fig = plt.figure(1)\n",
    "for i, col in enumerate(cols):\n",
    "    ax = fig.add_subplot(4, 3, i+1)\n",
    "    ax.fill_between(np.arange(len(cols_counts[col])), cols_counts[col].get_values())\n",
    "    # ax.set_title(col)\n",
    "plt.show()"
   ]
  },
  {
   "cell_type": "code",
   "execution_count": 3,
   "metadata": {
    "code_folding": [
     0
    ]
   },
   "outputs": [
    {
     "name": "stdout",
     "output_type": "stream",
     "text": [
      "ok\n"
     ]
    }
   ],
   "source": [
    "## 只保存前K个分类变量\n",
    "k = 99\n",
    "col_index = {}\n",
    "for col in cols:\n",
    "    col_index[col] = cols_counts[col][0: k].index\n",
    "\n",
    "df_train_org = pd.read_csv(fp_train, dtype = {'id': str}, chunksize = 10000000, iterator = True)\n",
    "df_test_org  = pd.read_csv(fp_test,  dtype = {'id': str}, chunksize = 10000000, iterator = True)\n",
    "\n",
    "## 训练集\n",
    "hd_flag = True  # add column names at 1-st row\n",
    "for chunk in df_train_org:\n",
    "    df = chunk.copy()\n",
    "    for col in cols:\n",
    "        df[col] = df[col].astype('object')\n",
    "        # 将所有稀有的分类转换成'other'\n",
    "        df.loc[~df[col].isin(col_index[col]), col] = 'other'    ####？？？？？？\n",
    "    with open(fp_train_f, 'a') as f:\n",
    "        df.to_csv(f, columns = cols_train, header = hd_flag, index = False)\n",
    "    hd_flag = False\n",
    "\n",
    "## 测试集\n",
    "hd_flag = True  # 第一个chunk需要有header\n",
    "for chunk in df_test_org:\n",
    "    df = chunk.copy()\n",
    "    for col in cols:\n",
    "        df[col] = df[col].astype('object')\n",
    "        # 设置其他不常用变量为other\n",
    "        df.loc[~df[col].isin(col_index[col]), col] = 'other'\n",
    "    with open(fp_test_f, 'a') as f:\n",
    "        df.to_csv(f, columns = cols_test, header = hd_flag, index = False)      \n",
    "    hd_flag = False    \n",
    "\n",
    "print(\"ok\")"
   ]
  },
  {
   "cell_type": "code",
   "execution_count": 4,
   "metadata": {
    "code_folding": [
     0
    ]
   },
   "outputs": [
    {
     "name": "stdout",
     "output_type": "stream",
     "text": [
      "ok\n"
     ]
    }
   ],
   "source": [
    "## 对分类变量进行标签编码\n",
    "lb_enc = {}\n",
    "for col in cols:\n",
    "    col_index[col] = np.append(col_index[col], 'other')\n",
    "\n",
    "for col in cols:\n",
    "    lb_enc[col] = LabelEncoder()\n",
    "    lb_enc[col].fit(col_index[col])\n",
    "    \n",
    "## 存储标签编码\n",
    "pickle.dump(lb_enc, open(fp_lb_enc, 'wb'))\n",
    "\n",
    "## one-hot编码\n",
    "oh_enc = OneHotEncoder(cols)\n",
    "\n",
    "df_train_f = pd.read_csv(fp_train_f, index_col=None, chunksize=5000000, iterator=True)\n",
    "df_test_f  = pd.read_csv(fp_test_f, index_col=None, chunksize=5000000, iterator=True)\n",
    "\n",
    "for chunk in df_train_f:\n",
    "    oh_enc.fit(chunk)\n",
    "for chunk in df_test_f:\n",
    "    oh_enc.fit(chunk)\n",
    "    \n",
    "## 存储one-hot编码\n",
    "pickle.dump(oh_enc, open(fp_oh_enc, 'wb'))\n",
    "\n",
    "print(\"ok\")"
   ]
  },
  {
   "cell_type": "code",
   "execution_count": null,
   "metadata": {
    "code_folding": [
     0
    ]
   },
   "outputs": [],
   "source": [
    "# 计算总训练样本 约46M\n",
    "n = sum(1 for line in open(fp_train_f)) - 1 \n",
    "# 保存下采样训练样本 2M\n",
    "s = 2000000\n",
    "\n",
    "## 设置哪些行不需要读 skip，不需要读的行数为n-s\n",
    "skip = sorted(random.sample(range(1, n+1), n-s)) \n",
    "df_train = pd.read_csv(fp_train_f, skiprows = skip)\n",
    "df_train.columns = cols_train\n",
    "\n",
    "## 存储下采样的结果\n",
    "df_train.to_csv(fp_sub_train_f, index=False) \n",
    "\n",
    "print(\"ok\")"
   ]
  },
  {
   "cell_type": "markdown",
   "metadata": {},
   "source": [
    "## CTR预测（lightGBM）"
   ]
  },
  {
   "cell_type": "code",
   "execution_count": null,
   "metadata": {},
   "outputs": [],
   "source": [
    "##==================== 设置文件路径File-Path (fp) ====================##\n",
    "# file_path = '' # mac路径\n",
    "file_path = 'C:/Users/Administrator/Desktop/W/DataSet/avazu/' # win路径\n",
    "fp_train_f = file_path + \"train_f.csv\"\n",
    "fp_test_f  = file_path + \"test_f.csv\"\n",
    "\n",
    "# one-hot编码保存\n",
    "fp_oh_enc = file_path + \"oh_enc\"\n",
    "# LR模型保存\n",
    "fp_lr_model = file_path + \"lr/lr_model\"\n",
    "# submission文件保存\n",
    "fp_sub = file_path + \"lr/LR_submission.csv\"\n",
    "\n",
    "##==================== lightGBM 训练 ====================##\n",
    "oh_enc = pickle.load(open(fp_oh_enc, 'rb'))\n",
    "\n",
    "# 一个chunk块为5万行\n",
    "chunksize = 50000\n",
    "df_train_f = pd.read_csv(fp_train_f, dtype={'id':str}, index_col=None, chunksize=chunksize, iterator=True)\n",
    "\n",
    "# 使用LogLoss作为LR的损失函数\n",
    "lr_model = SGDClassifier(loss='log')  \n",
    "scores = []\n",
    "\n",
    "\n",
    "print(\"ok\")"
   ]
  },
  {
   "cell_type": "markdown",
   "metadata": {},
   "source": [
    "## 问题"
   ]
  },
  {
   "cell_type": "markdown",
   "metadata": {},
   "source": [
    "* 矩阵分解的作用是补全矩阵缺失的评分，但是当预测集中出现训练集中没有的新用户或新电影，矩阵分解(SVD)好像也能得到预测评分，这是为什么呢？"
   ]
  }
 ],
 "metadata": {
  "kernelspec": {
   "display_name": "Python 3",
   "language": "python",
   "name": "python3"
  },
  "language_info": {
   "codemirror_mode": {
    "name": "ipython",
    "version": 3
   },
   "file_extension": ".py",
   "mimetype": "text/x-python",
   "name": "python",
   "nbconvert_exporter": "python",
   "pygments_lexer": "ipython3",
   "version": "3.6.5"
  },
  "toc": {
   "base_numbering": 1,
   "nav_menu": {},
   "number_sections": true,
   "sideBar": true,
   "skip_h1_title": false,
   "title_cell": "Table of Contents",
   "title_sidebar": "Contents",
   "toc_cell": false,
   "toc_position": {
    "height": "calc(100% - 180px)",
    "left": "10px",
    "top": "150px",
    "width": "165px"
   },
   "toc_section_display": true,
   "toc_window_display": true
  }
 },
 "nbformat": 4,
 "nbformat_minor": 2
}
