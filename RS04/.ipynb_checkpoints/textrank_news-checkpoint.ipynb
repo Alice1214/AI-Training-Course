{
 "cells": [
  {
   "cell_type": "markdown",
   "metadata": {},
   "source": [
    "# TextRank提取新闻关键词及摘要"
   ]
  },
  {
   "cell_type": "markdown",
   "metadata": {},
   "source": [
    "* Content：使用TextRank对新闻进行关键词提取，及文章摘要输出\n",
    "* Author:  HuiHui\n",
    "* Date:    2020-05-22\n",
    "* Reference:"
   ]
  },
  {
   "cell_type": "markdown",
   "metadata": {},
   "source": [
    "## 导入相关库"
   ]
  },
  {
   "cell_type": "code",
   "execution_count": 1,
   "metadata": {},
   "outputs": [],
   "source": [
    "# !/usr/bin/env python\n",
    "# -*- coding=utf-8 -*-\n",
    "import pandas as pd\n",
    "import numpy as np\n",
    "from textrank4zh import TextRank4Keyword, TextRank4Sentence\n",
    "import jieba"
   ]
  },
  {
   "cell_type": "markdown",
   "metadata": {},
   "source": [
    "## TextRank"
   ]
  },
  {
   "cell_type": "code",
   "execution_count": 9,
   "metadata": {},
   "outputs": [
    {
     "name": "stdout",
     "output_type": "stream",
     "text": [
      "今天，武汉市教育局发出《关于延迟2020年春季开学时间有关工作的通知》，延迟全市中小学、市属大中专院校2020年春季开学时间。\n",
      "具体开学时间将视武汉市新冠肺炎疫情发展和防控情况，请示上级同意后另行通知。\n",
      "2月10日前，各单位严格按照要求，做好假期各项工作。\n",
      "2月10日开始，各区教育局组织辖区中小学、中职学校，按照教学计划安排，开展在线课程教学（方案另发）。\n",
      "正式开学前，严禁市属各级各类学校组织各类线下课程教学、培训和集体活动。\n",
      "各区教育局要指导辖区中小学、幼儿园，合理制定学生学习计划和生活指南，指导学生安排好居家学习和生活；要关注学生心理健康，建立离校学生情况日报制度，定期向学生了解相关情况，通过电话、网络等各种方式做好学生的个性化辅导。\n",
      "\n",
      "关键词：\n",
      "学生 0.0640562193171476\n",
      "情况 0.03408560625354374\n",
      "中小学 0.028039567778001893\n",
      "做好 0.025370310607351808\n",
      "教学 0.02348238685226383\n",
      "学习 0.022563559125933923\n",
      "教育局 0.021821626232347666\n",
      "指导 0.020815842184169844\n",
      "市属 0.020414506276586208\n",
      "武汉市 0.01915524398502401\n",
      "延迟 0.018371930225384824\n",
      "安排 0.018277873636029833\n",
      "集体 0.01726509730966709\n",
      "学校 0.017076084588102173\n",
      "生活 0.01691997813505238\n",
      "开学 0.016891066590014207\n",
      "课程 0.016885914783294133\n",
      "方案 0.016885914783294133\n",
      "组织 0.01625055545811202\n",
      "培训 0.01622482111272769\n",
      "摘要：\n",
      "0 0.16736862381514578 今天，武汉市教育局发出《关于延迟2020年春季开学时间有关工作的通知》，延迟全市中小学、市属大中专院校2020年春季开学时间\n",
      "3 0.16121904336116283 2月10日开始，各区教育局组织辖区中小学、中职学校，按照教学计划安排，开展在线课程教学（方案另发）\n",
      "6 0.14645271233055304 要关注学生心理健康，建立离校学生情况日报制度，定期向学生了解相关情况，通过电话、网络等各种方式做好学生的个性化辅导\n"
     ]
    }
   ],
   "source": [
    "f = open('./news.txt')\n",
    "text = f.read()\n",
    "print(text)\n",
    "\n",
    "# 输出关键词，设置文本小写，窗口为2\n",
    "tr4w = TextRank4Keyword()\n",
    "tr4w.analyze(text=text, lower=True, window=2)\n",
    "print('关键词：')\n",
    "for item in tr4w.get_keywords(20, word_min_len=2):\n",
    "    print(item.word, item.weight)\n",
    "\n",
    "# 输出重要的句子\n",
    "tr4s = TextRank4Sentence()\n",
    "tr4s.analyze(text=text, lower=True, source = 'all_filters')\n",
    "print('摘要：')\n",
    "# 重要性较高的三个句子\n",
    "for item in tr4s.get_key_sentences(num=3):\n",
    "\t# index是语句在文本中位置，weight表示权重\n",
    "    print(item.index, item.weight, item.sentence)"
   ]
  }
 ],
 "metadata": {
  "kernelspec": {
   "display_name": "Python 3",
   "language": "python",
   "name": "python3"
  },
  "language_info": {
   "codemirror_mode": {
    "name": "ipython",
    "version": 3
   },
   "file_extension": ".py",
   "mimetype": "text/x-python",
   "name": "python",
   "nbconvert_exporter": "python",
   "pygments_lexer": "ipython3",
   "version": "3.6.5"
  }
 },
 "nbformat": 4,
 "nbformat_minor": 2
}
