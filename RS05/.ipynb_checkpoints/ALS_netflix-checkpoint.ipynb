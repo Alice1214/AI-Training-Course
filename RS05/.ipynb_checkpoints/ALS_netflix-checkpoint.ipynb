{
 "cells": [
  {
   "cell_type": "markdown",
   "metadata": {},
   "source": [
    "# Netflix评分预测"
   ]
  },
  {
   "cell_type": "markdown",
   "metadata": {},
   "source": [
    "* Content：对Netflix数据集进行评分预测\n",
    "* Author:  HuiHui\n",
    "* Date:    2020-05-23\n",
    "* Reference:https://www.kaggle.com/netflix-inc/netflix-prize-data/data"
   ]
  },
  {
   "cell_type": "markdown",
   "metadata": {},
   "source": [
    "## Netflix数据集"
   ]
  },
  {
   "cell_type": "markdown",
   "metadata": {},
   "source": [
    "* 该数据集收集了1998年10月至2005年12月之间Netflix用户所有的电影评分数据，涵盖了48万用户对17000部电影的评分记录（超过1亿条），评分范围1-5星\n",
    "* 训练数据：包含了用户对17770部电影的评分  \n",
    "&emsp;电影ID:  \n",
    "&emsp;用户1ID,评分,日期  \n",
    "&emsp;用户2ID,评分,日期  \n",
    "注：电影编号从1到17770;用户ID的范围从1到2649429，有间隙，有480189个用户;评分是从1到5（整数）；日期的格式为yyy-MM-DD。\n",
    "* movie_titles.txt：  \n",
    "&emsp;电影ID,发行年份,片名  \n",
    "* qualifying.txt：  \n",
    "&emsp;电影ID1：  \n",
    "&emsp;客户1ID,日期1  \n",
    "&emsp;客户2ID,日期2  \n",
    "&emsp;电影ID2:  \n",
    "&emsp;客户1ID,日期1  \n",
    "注：您的程序必须根据训练数据集中的信息预测用户在qualifying数据集中为电影提供的所有评分  \n",
    "* probe.txt：  \n",
    "&emsp;电影ID1：  \n",
    "&emsp;客户1ID  \n",
    "&emsp;客户2ID  \n",
    "&emsp;电影ID2:  \n",
    "&emsp;客户1ID   \n",
    "注：与qualifying据集不同，其每对的评分和日期都包含在培训数据集中；可针对probe探测集计算RMSE与Cinematch的RMSE进行比较\n",
    "* 提交文件：  \n",
    "如果qualifying数据集中，  \n",
    "&emsp;电影ID1：  \n",
    "&emsp;客户1ID,日期1  \n",
    "&emsp;客户2ID,日期2  \n",
    "&emsp;电影ID2:  \n",
    "&emsp;客户1ID,日期1  \n",
    "则预测文件中对应，  \n",
    "&emsp;电影ID1：  \n",
    "&emsp;评分1  \n",
    "&emsp;评分2  \n",
    "&emsp;电影ID2:  \n",
    "&emsp;评分1  \n",
    "注：提交的预测文件的格式应遵循qualifying数据集中电影ID、用户ID、日期的顺序"
   ]
  },
  {
   "cell_type": "markdown",
   "metadata": {},
   "source": [
    "## 提交备注"
   ]
  },
  {
   "cell_type": "markdown",
   "metadata": {},
   "source": [
    "* 说明使用的数据集大小（如果对数据集进行切分）\n",
    "* probe上的RMSE，也可以针对probe子集进行计算\n",
    "* 说明使用的算法"
   ]
  },
  {
   "cell_type": "markdown",
   "metadata": {},
   "source": [
    "## 导入相关库"
   ]
  },
  {
   "cell_type": "code",
   "execution_count": 1,
   "metadata": {
    "collapsed": true
   },
   "outputs": [],
   "source": [
    "# !/usr/bin/env python\n",
    "# -*- coding=utf-8 -*-\n",
    "import pandas as pd\n",
    "import numpy as np\n",
    "from surprise import SVD,SVDpp #surprise是推荐算法python实现库\n",
    "from surprise import Dataset\n",
    "from surprise.model_selection import cross_validate\n",
    "from surprise import Reader\n",
    "from surprise import accuracy\n",
    "from surprise.model_selection import KFold"
   ]
  },
  {
   "cell_type": "markdown",
   "metadata": {},
   "source": [
    "## txt转换成csv"
   ]
  },
  {
   "cell_type": "markdown",
   "metadata": {},
   "source": [
    "## 在训练集中查找probe集的评分及日期"
   ]
  },
  {
   "cell_type": "markdown",
   "metadata": {},
   "source": [
    "## 数据集切分"
   ]
  },
  {
   "cell_type": "markdown",
   "metadata": {},
   "source": [
    "## RMSE计算"
   ]
  },
  {
   "cell_type": "code",
   "execution_count": null,
   "metadata": {
    "collapsed": true
   },
   "outputs": [],
   "source": [
    "# 转移矩阵\n",
    "a = np.array([[0, 0, 1, 1/2, 0, 0], \n",
    "\t\t\t[1/4, 0, 0, 0, 1/2, 0],\n",
    "\t\t\t[0, 1, 0, 0, 1/2, 0],\n",
    "            [1/4,0, 0, 0, 0, 0],\n",
    "            [1/4, 0, 0, 1/2, 0, 0],\n",
    "\t\t\t[1/4, 0, 0, 0, 0, 0]])\n",
    "\n",
    "b = np.array([1/6, 1/6, 1/6, 1/6, 1/6, 1/6])\n",
    "w = b\n",
    "\n",
    "def work(a, w):# 简化模型\n",
    "\tfor i in range(100):\n",
    "\t\tw = np.dot(a, w)\n",
    "\t\tprint(w)\n",
    "\n",
    "def random_work(a, w, n):#随机模型\n",
    "\td = 0.85\n",
    "\tfor i in range(100):\n",
    "\t\tw = (1-d)/n + d*np.dot(a, w)\n",
    "\t\tprint(w)\n",
    "\n",
    "work(a, w)\n",
    "# random_work(a, w, 6)"
   ]
  },
  {
   "cell_type": "markdown",
   "metadata": {},
   "source": [
    "## 使用NetworkX工具"
   ]
  },
  {
   "cell_type": "code",
   "execution_count": null,
   "metadata": {
    "collapsed": true
   },
   "outputs": [],
   "source": [
    "# 创建有向图\n",
    "G = nx.DiGraph()   \n",
    "# 设置有向图的边集合\n",
    "edges = [(\"A\", \"B\"),(\"A\", \"D\"), (\"A\", \"E\"), (\"A\", \"F\"), (\"B\", \"C\"), (\"C\", \"E\"), (\"D\", \"A\"), (\"D\", \"E\"),(\"E\", \"B\"), (\"E\", \"C\"),(\"F\", \"D\")]\n",
    "# 在有向图G中添加边集合\n",
    "for edge in edges:\n",
    "    G.add_edge(edge[0], edge[1])\n",
    "\n",
    "# 有向图可视化\n",
    "layout = nx.spring_layout(G)\n",
    "nx.draw(G, pos=layout, with_labels=True, hold=False)\n",
    "plt.show()\n",
    "\n",
    "# 计算简化模型的PR值\n",
    "pr = nx.pagerank(G, alpha=1)\n",
    "print(\"简化模型的PR值：\", pr)\n",
    "\n",
    "# 计算随机模型的PR值\n",
    "pr = nx.pagerank(G, alpha=0.8)\n",
    "print(\"随机模型的PR值：\", pr)"
   ]
  }
 ],
 "metadata": {
  "kernelspec": {
   "display_name": "Python 3",
   "language": "python",
   "name": "python3"
  },
  "language_info": {
   "codemirror_mode": {
    "name": "ipython",
    "version": 3
   },
   "file_extension": ".py",
   "mimetype": "text/x-python",
   "name": "python",
   "nbconvert_exporter": "python",
   "pygments_lexer": "ipython3",
   "version": "3.6.3"
  },
  "toc": {
   "base_numbering": 1,
   "nav_menu": {},
   "number_sections": true,
   "sideBar": true,
   "skip_h1_title": false,
   "title_cell": "Table of Contents",
   "title_sidebar": "Contents",
   "toc_cell": false,
   "toc_position": {
    "height": "calc(100% - 180px)",
    "left": "10px",
    "top": "150px",
    "width": "165px"
   },
   "toc_section_display": true,
   "toc_window_display": true
  }
 },
 "nbformat": 4,
 "nbformat_minor": 2
}
